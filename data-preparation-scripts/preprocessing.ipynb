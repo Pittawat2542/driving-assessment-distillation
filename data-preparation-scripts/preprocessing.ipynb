{
 "cells": [
  {
   "cell_type": "code",
   "execution_count": 1,
   "id": "initial_id",
   "metadata": {
    "collapsed": true,
    "ExecuteTime": {
     "end_time": "2023-12-08T06:49:10.404549Z",
     "start_time": "2023-12-08T06:49:09.876872Z"
    }
   },
   "outputs": [],
   "source": [
    "import re\n",
    "from pathlib import Path\n",
    "import pandas as pd"
   ]
  },
  {
   "cell_type": "code",
   "execution_count": 2,
   "outputs": [],
   "source": [
    "data_dir = Path(\"../data\")"
   ],
   "metadata": {
    "collapsed": false,
    "ExecuteTime": {
     "end_time": "2023-12-08T06:49:10.417530Z",
     "start_time": "2023-12-08T06:49:10.406263Z"
    }
   },
   "id": "7b35d7874acacb07"
  },
  {
   "cell_type": "code",
   "execution_count": 3,
   "outputs": [],
   "source": [
    "folders = [x for x in data_dir.iterdir() if x.is_dir()]"
   ],
   "metadata": {
    "collapsed": false,
    "ExecuteTime": {
     "end_time": "2023-12-08T06:49:10.418069Z",
     "start_time": "2023-12-08T06:49:10.413348Z"
    }
   },
   "id": "9e9d2bf13d16a6fb"
  },
  {
   "cell_type": "code",
   "execution_count": 4,
   "outputs": [],
   "source": [
    "files = []\n",
    "for folder in folders:\n",
    "    files_in_folder = [x for x in (folder / \"objects\").iterdir() if x.is_file() if x.suffix == \".txt\"]\n",
    "    files.extend(files_in_folder)"
   ],
   "metadata": {
    "collapsed": false,
    "ExecuteTime": {
     "end_time": "2023-12-08T06:49:10.467458Z",
     "start_time": "2023-12-08T06:49:10.420144Z"
    }
   },
   "id": "784f7e2dad4da82c"
  },
  {
   "cell_type": "code",
   "execution_count": 5,
   "outputs": [
    {
     "name": "stdout",
     "output_type": "stream",
     "text": [
      "2548\n"
     ]
    }
   ],
   "source": [
    "print(len(files))"
   ],
   "metadata": {
    "collapsed": false,
    "ExecuteTime": {
     "end_time": "2023-12-08T06:49:26.289144Z",
     "start_time": "2023-12-08T06:49:26.275189Z"
    }
   },
   "id": "a8301dd68cee3204"
  },
  {
   "cell_type": "code",
   "execution_count": 6,
   "outputs": [],
   "source": [
    "df = {\n",
    "    \"town\": [],\n",
    "    \"section\": [],\n",
    "    \"scenario\": [],\n",
    "    \"part\": [],\n",
    "    \"objects\": [],\n",
    "    \"controls\": [],\n",
    "}"
   ],
   "metadata": {
    "collapsed": false,
    "ExecuteTime": {
     "end_time": "2023-12-08T06:49:33.085986Z",
     "start_time": "2023-12-08T06:49:33.077349Z"
    }
   },
   "id": "8366d4ca10915a8a"
  },
  {
   "cell_type": "code",
   "execution_count": 7,
   "outputs": [],
   "source": [
    "for file in files:\n",
    "    with open(file, \"r\") as f:\n",
    "        lines = f.readlines()\n",
    "        for i in range(0, len(lines), 4):\n",
    "            file_name_pattern = r\"OBJ_(Town\\d*)_(\\d*)_(\\w*)_(\\d*).txt\"\n",
    "            file_name = re.search(file_name_pattern, file.name)\n",
    "            town_name = file_name.group(1)\n",
    "            section_name = file_name.group(2)\n",
    "            scenario_name = file_name.group(3)\n",
    "            part_name = file_name.group(4)\n",
    "\n",
    "            objects = []\n",
    "            ctrl = []\n",
    "            exec(lines[i+1].strip().replace(\": \", \".extend(\") + \")\")\n",
    "            exec(lines[i+2].strip().replace(\": \", \".extend(\").replace(\"[\", \"[{\").replace(\"]\",\"}]\") + \")\")\n",
    "            df[\"town\"].append(town_name)\n",
    "            df[\"section\"].append(section_name)\n",
    "            df[\"scenario\"].append(scenario_name)\n",
    "            df[\"part\"].append(part_name)\n",
    "            df[\"objects\"].append(objects)\n",
    "            df[\"controls\"].append(ctrl)"
   ],
   "metadata": {
    "collapsed": false,
    "ExecuteTime": {
     "end_time": "2023-12-08T06:49:50.401042Z",
     "start_time": "2023-12-08T06:49:33.520140Z"
    }
   },
   "id": "816b92d3e48c6f6f"
  },
  {
   "cell_type": "code",
   "execution_count": 8,
   "outputs": [
    {
     "name": "stdout",
     "output_type": "stream",
     "text": [
      "124248\n"
     ]
    }
   ],
   "source": [
    "print(len(df[\"town\"]))"
   ],
   "metadata": {
    "collapsed": false,
    "ExecuteTime": {
     "end_time": "2023-12-08T06:49:57.589362Z",
     "start_time": "2023-12-08T06:49:57.575328Z"
    }
   },
   "id": "81aecfc8670d752c"
  },
  {
   "cell_type": "code",
   "execution_count": 9,
   "outputs": [],
   "source": [
    "df = pd.DataFrame(df)"
   ],
   "metadata": {
    "collapsed": false,
    "ExecuteTime": {
     "end_time": "2023-12-08T06:50:12.234873Z",
     "start_time": "2023-12-08T06:50:12.092591Z"
    }
   },
   "id": "816b2ff7aa58e7e8"
  },
  {
   "cell_type": "code",
   "execution_count": 10,
   "outputs": [],
   "source": [
    "df.to_csv(\"training.csv\", index=False)"
   ],
   "metadata": {
    "collapsed": false,
    "ExecuteTime": {
     "end_time": "2023-12-08T06:51:47.778646Z",
     "start_time": "2023-12-08T06:51:43.772655Z"
    }
   },
   "id": "ab257092572f86ca"
  },
  {
   "cell_type": "code",
   "execution_count": null,
   "outputs": [],
   "source": [],
   "metadata": {
    "collapsed": false
   },
   "id": "809b53d4097b2fbf"
  }
 ],
 "metadata": {
  "kernelspec": {
   "display_name": "Python 3",
   "language": "python",
   "name": "python3"
  },
  "language_info": {
   "codemirror_mode": {
    "name": "ipython",
    "version": 2
   },
   "file_extension": ".py",
   "mimetype": "text/x-python",
   "name": "python",
   "nbconvert_exporter": "python",
   "pygments_lexer": "ipython2",
   "version": "2.7.6"
  }
 },
 "nbformat": 4,
 "nbformat_minor": 5
}
