{
 "cells": [
  {
   "cell_type": "code",
   "execution_count": 1,
   "id": "initial_id",
   "metadata": {
    "collapsed": true,
    "ExecuteTime": {
     "end_time": "2024-01-06T11:44:00.179276Z",
     "start_time": "2024-01-06T11:43:58.096619Z"
    }
   },
   "outputs": [],
   "source": [
    "import pandas as pd"
   ]
  },
  {
   "cell_type": "code",
   "outputs": [],
   "source": [
    "SEED = 42"
   ],
   "metadata": {
    "collapsed": false,
    "ExecuteTime": {
     "end_time": "2024-01-06T11:44:00.181417Z",
     "start_time": "2024-01-06T11:44:00.178781Z"
    }
   },
   "id": "4aab060e591825a6",
   "execution_count": 2
  },
  {
   "cell_type": "code",
   "outputs": [],
   "source": [
    "df = pd.read_csv('../data/train_small.csv')"
   ],
   "metadata": {
    "collapsed": false,
    "ExecuteTime": {
     "end_time": "2024-01-06T11:44:54.621032Z",
     "start_time": "2024-01-06T11:44:50.748281Z"
    }
   },
   "id": "58afa9100da2de57",
   "execution_count": 3
  },
  {
   "cell_type": "code",
   "outputs": [
    {
     "name": "stdout",
     "output_type": "stream",
     "text": [
      "(10000, 13)\n"
     ]
    },
    {
     "data": {
      "text/plain": "     town  section                       scenario  part  \\\n0  Town12       24                AccidentTwoWays     2   \n1  Town12       83     SignalizedJunctionLeftTurn     3   \n2  Town12        1                   InvadingTurn     1   \n3  Town12       81                AccidentTwoWays     2   \n4  Town12        1  OppositeVehicleTakingPriority     4   \n\n                                             objects  \\\n0  [(27, 'vehicle.lincoln.mkz_2020'), (18, 'vehic...   \n1  [(25, 'vehicle.dodge.charger_2020'), (10, 'veh...   \n2  [(30, 'vehicle.ford.mustang'), (11, 'vehicle.d...   \n3  [(32, 'vehicle.lincoln.mkz_2017'), (30, 'vehic...   \n4  [(6, 'vehicle.audi.tt'), (46, 'vehicle.chevrol...   \n\n                                            controls  \\\n0  [{'throttle': 0.0, 'steer': -0.000145018057082...   \n1  [{'throttle': 0.0, 'steer': -0.000272696197498...   \n2  [{'throttle': 0.75, 'steer': -0.01106829196214...   \n3  [{'throttle': 0.5941585898399353, 'steer': -0....   \n4  [{'throttle': 0.15837903320789337, 'steer': 0....   \n\n                                chatgpt_raw_response  \\\n0  {\\r\\n  \"location\": \"City street\",\\r\\n  \"situat...   \n1  {\\r\\n  \"location\": \"City street\",\\r\\n  \"situat...   \n2  {\\r\\n  \"location\": \"City street\",\\r\\n  \"situat...   \n3  {\\r\\n  \"location\": \"City street\",\\r\\n  \"situat...   \n4  {\\r\\n  \"location\": \"City street\",\\r\\n  \"situat...   \n\n  chatgpt_extracted_location  \\\n0                City street   \n1                City street   \n2                City street   \n3                City street   \n4                City street   \n\n                         chatgpt_extracted_situation chatgpt_extracted_risk  \\\n0      Approaching multiple vehicles and a stop sign                 medium   \n1   Approaching multiple vehicles and traffic lights                 medium   \n2    Approaching multiple vehicles and traffic signs                 medium   \n3  Approaching multiple vehicles and a traffic light                 medium   \n4  Approaching multiple vehicles and speed limit ...                 medium   \n\n                           chatgpt_extracted_message  \\\n0  Stay alert, approaching vehicles and a stop si...   \n1  Stay focused, be aware of surrounding vehicles...   \n2  Stay alert, multiple vehicles and signs ahead,...   \n3  Stay alert, multiple vehicles and a traffic li...   \n4  Stay alert, multiple vehicles and speed limit ...   \n\n                                objs_ctrls_embedding  \\\n0  [-0.03171243518590927, 0.0018847823375836015, ...   \n1  [-0.032604582607746124, -0.0019862642511725426...   \n2  [-0.03377443552017212, -0.0017937339143827558,...   \n3  [-0.03282240778207779, -0.005029125604778528, ...   \n4  [-0.022468946874141693, 0.0024467825423926115,...   \n\n                                   message_embedding  \n0  [0.0034691710025072098, -0.0068944282829761505...  \n1  [-0.0025346996262669563, 0.006468296982347965,...  \n2  [-0.0045776208862662315, -0.003885991638526320...  \n3  [-0.008578279055655003, -0.005552159622311592,...  \n4  [-0.006352971773594618, -0.0004659488913603127...  ",
      "text/html": "<div>\n<style scoped>\n    .dataframe tbody tr th:only-of-type {\n        vertical-align: middle;\n    }\n\n    .dataframe tbody tr th {\n        vertical-align: top;\n    }\n\n    .dataframe thead th {\n        text-align: right;\n    }\n</style>\n<table border=\"1\" class=\"dataframe\">\n  <thead>\n    <tr style=\"text-align: right;\">\n      <th></th>\n      <th>town</th>\n      <th>section</th>\n      <th>scenario</th>\n      <th>part</th>\n      <th>objects</th>\n      <th>controls</th>\n      <th>chatgpt_raw_response</th>\n      <th>chatgpt_extracted_location</th>\n      <th>chatgpt_extracted_situation</th>\n      <th>chatgpt_extracted_risk</th>\n      <th>chatgpt_extracted_message</th>\n      <th>objs_ctrls_embedding</th>\n      <th>message_embedding</th>\n    </tr>\n  </thead>\n  <tbody>\n    <tr>\n      <th>0</th>\n      <td>Town12</td>\n      <td>24</td>\n      <td>AccidentTwoWays</td>\n      <td>2</td>\n      <td>[(27, 'vehicle.lincoln.mkz_2020'), (18, 'vehic...</td>\n      <td>[{'throttle': 0.0, 'steer': -0.000145018057082...</td>\n      <td>{\\r\\n  \"location\": \"City street\",\\r\\n  \"situat...</td>\n      <td>City street</td>\n      <td>Approaching multiple vehicles and a stop sign</td>\n      <td>medium</td>\n      <td>Stay alert, approaching vehicles and a stop si...</td>\n      <td>[-0.03171243518590927, 0.0018847823375836015, ...</td>\n      <td>[0.0034691710025072098, -0.0068944282829761505...</td>\n    </tr>\n    <tr>\n      <th>1</th>\n      <td>Town12</td>\n      <td>83</td>\n      <td>SignalizedJunctionLeftTurn</td>\n      <td>3</td>\n      <td>[(25, 'vehicle.dodge.charger_2020'), (10, 'veh...</td>\n      <td>[{'throttle': 0.0, 'steer': -0.000272696197498...</td>\n      <td>{\\r\\n  \"location\": \"City street\",\\r\\n  \"situat...</td>\n      <td>City street</td>\n      <td>Approaching multiple vehicles and traffic lights</td>\n      <td>medium</td>\n      <td>Stay focused, be aware of surrounding vehicles...</td>\n      <td>[-0.032604582607746124, -0.0019862642511725426...</td>\n      <td>[-0.0025346996262669563, 0.006468296982347965,...</td>\n    </tr>\n    <tr>\n      <th>2</th>\n      <td>Town12</td>\n      <td>1</td>\n      <td>InvadingTurn</td>\n      <td>1</td>\n      <td>[(30, 'vehicle.ford.mustang'), (11, 'vehicle.d...</td>\n      <td>[{'throttle': 0.75, 'steer': -0.01106829196214...</td>\n      <td>{\\r\\n  \"location\": \"City street\",\\r\\n  \"situat...</td>\n      <td>City street</td>\n      <td>Approaching multiple vehicles and traffic signs</td>\n      <td>medium</td>\n      <td>Stay alert, multiple vehicles and signs ahead,...</td>\n      <td>[-0.03377443552017212, -0.0017937339143827558,...</td>\n      <td>[-0.0045776208862662315, -0.003885991638526320...</td>\n    </tr>\n    <tr>\n      <th>3</th>\n      <td>Town12</td>\n      <td>81</td>\n      <td>AccidentTwoWays</td>\n      <td>2</td>\n      <td>[(32, 'vehicle.lincoln.mkz_2017'), (30, 'vehic...</td>\n      <td>[{'throttle': 0.5941585898399353, 'steer': -0....</td>\n      <td>{\\r\\n  \"location\": \"City street\",\\r\\n  \"situat...</td>\n      <td>City street</td>\n      <td>Approaching multiple vehicles and a traffic light</td>\n      <td>medium</td>\n      <td>Stay alert, multiple vehicles and a traffic li...</td>\n      <td>[-0.03282240778207779, -0.005029125604778528, ...</td>\n      <td>[-0.008578279055655003, -0.005552159622311592,...</td>\n    </tr>\n    <tr>\n      <th>4</th>\n      <td>Town12</td>\n      <td>1</td>\n      <td>OppositeVehicleTakingPriority</td>\n      <td>4</td>\n      <td>[(6, 'vehicle.audi.tt'), (46, 'vehicle.chevrol...</td>\n      <td>[{'throttle': 0.15837903320789337, 'steer': 0....</td>\n      <td>{\\r\\n  \"location\": \"City street\",\\r\\n  \"situat...</td>\n      <td>City street</td>\n      <td>Approaching multiple vehicles and speed limit ...</td>\n      <td>medium</td>\n      <td>Stay alert, multiple vehicles and speed limit ...</td>\n      <td>[-0.022468946874141693, 0.0024467825423926115,...</td>\n      <td>[-0.006352971773594618, -0.0004659488913603127...</td>\n    </tr>\n  </tbody>\n</table>\n</div>"
     },
     "execution_count": 5,
     "metadata": {},
     "output_type": "execute_result"
    }
   ],
   "source": [
    "print(df.shape)\n",
    "df.head()"
   ],
   "metadata": {
    "collapsed": false,
    "ExecuteTime": {
     "end_time": "2024-01-06T11:45:12.097738Z",
     "start_time": "2024-01-06T11:45:12.092366Z"
    }
   },
   "id": "b318adff126b7e70",
   "execution_count": 5
  },
  {
   "cell_type": "code",
   "outputs": [],
   "source": [
    "df_tiny = df.sample(1000, random_state=SEED)"
   ],
   "metadata": {
    "collapsed": false,
    "ExecuteTime": {
     "end_time": "2024-01-06T11:45:22.575871Z",
     "start_time": "2024-01-06T11:45:22.570875Z"
    }
   },
   "id": "f93f1391849be251",
   "execution_count": 6
  },
  {
   "cell_type": "code",
   "outputs": [],
   "source": [
    "df_tiny.to_csv('../data/train_tiny.csv', index=False)"
   ],
   "metadata": {
    "collapsed": false,
    "ExecuteTime": {
     "end_time": "2024-01-06T11:45:29.499907Z",
     "start_time": "2024-01-06T11:45:28.810178Z"
    }
   },
   "id": "def856ccf4221a5b",
   "execution_count": 7
  }
 ],
 "metadata": {
  "kernelspec": {
   "display_name": "Python 3",
   "language": "python",
   "name": "python3"
  },
  "language_info": {
   "codemirror_mode": {
    "name": "ipython",
    "version": 2
   },
   "file_extension": ".py",
   "mimetype": "text/x-python",
   "name": "python",
   "nbconvert_exporter": "python",
   "pygments_lexer": "ipython2",
   "version": "2.7.6"
  }
 },
 "nbformat": 4,
 "nbformat_minor": 5
}
