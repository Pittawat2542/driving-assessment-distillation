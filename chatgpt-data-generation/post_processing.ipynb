{
 "cells": [
  {
   "cell_type": "code",
   "execution_count": 37,
   "id": "initial_id",
   "metadata": {
    "collapsed": true,
    "ExecuteTime": {
     "end_time": "2023-12-14T11:09:22.786971Z",
     "start_time": "2023-12-14T11:09:22.783139Z"
    }
   },
   "outputs": [],
   "source": [
    "from pathlib import Path\n",
    "import pandas as pd\n",
    "import json\n",
    "import re"
   ]
  },
  {
   "cell_type": "code",
   "execution_count": 44,
   "outputs": [],
   "source": [
    "training_path = Path('../data/training.csv')\n",
    "chatgpt_results_path = Path('../data/chatgpt/results')\n",
    "output_path = Path('../data/training_with_chatgpt.csv')"
   ],
   "metadata": {
    "collapsed": false,
    "ExecuteTime": {
     "end_time": "2023-12-14T11:12:22.314587Z",
     "start_time": "2023-12-14T11:12:22.310687Z"
    }
   },
   "id": "54b1ed69850b4e21"
  },
  {
   "cell_type": "code",
   "execution_count": 39,
   "outputs": [
    {
     "name": "stdout",
     "output_type": "stream",
     "text": [
      "<class 'pandas.core.frame.DataFrame'>\n",
      "RangeIndex: 124248 entries, 0 to 124247\n",
      "Data columns (total 11 columns):\n",
      " #   Column                       Non-Null Count   Dtype \n",
      "---  ------                       --------------   ----- \n",
      " 0   town                         124248 non-null  object\n",
      " 1   section                      124248 non-null  int64 \n",
      " 2   scenario                     124248 non-null  object\n",
      " 3   part                         124248 non-null  int64 \n",
      " 4   objects                      124248 non-null  object\n",
      " 5   controls                     124248 non-null  object\n",
      " 6   chatgpt_raw_response         124248 non-null  object\n",
      " 7   chatgpt_extracted_location   124248 non-null  object\n",
      " 8   chatgpt_extracted_situation  124248 non-null  object\n",
      " 9   chatgpt_extracted_risk       124248 non-null  object\n",
      " 10  chatgpt_extracted_message    124248 non-null  object\n",
      "dtypes: int64(2), object(9)\n",
      "memory usage: 10.4+ MB\n"
     ]
    }
   ],
   "source": [
    "training_data = pd.read_csv(training_path)\n",
    "training_data['chatgpt_raw_response'] = ''\n",
    "training_data['chatgpt_extracted_location'] = ''\n",
    "training_data['chatgpt_extracted_situation'] = ''\n",
    "training_data['chatgpt_extracted_risk'] = ''\n",
    "training_data['chatgpt_extracted_message'] = ''\n",
    "training_data.info()"
   ],
   "metadata": {
    "collapsed": false,
    "ExecuteTime": {
     "end_time": "2023-12-14T11:09:23.731163Z",
     "start_time": "2023-12-14T11:09:23.138887Z"
    }
   },
   "id": "c75849c90617fcb5"
  },
  {
   "cell_type": "code",
   "execution_count": 40,
   "outputs": [],
   "source": [
    "chatgpt_results_files = list(chatgpt_results_path.glob('*.txt'))\n",
    "chatgpt_results_files.sort(key=lambda x: int(x.stem))"
   ],
   "metadata": {
    "collapsed": false,
    "ExecuteTime": {
     "end_time": "2023-12-14T11:09:24.164345Z",
     "start_time": "2023-12-14T11:09:23.729635Z"
    }
   },
   "id": "a9ff09596552722c"
  },
  {
   "cell_type": "code",
   "execution_count": 41,
   "outputs": [],
   "source": [
    "start_json_pattern = r'```(json)*(\\n)*'"
   ],
   "metadata": {
    "collapsed": false,
    "ExecuteTime": {
     "end_time": "2023-12-14T11:09:24.168408Z",
     "start_time": "2023-12-14T11:09:24.165197Z"
    }
   },
   "id": "c6a57c54354d9bb5"
  },
  {
   "cell_type": "code",
   "execution_count": 42,
   "outputs": [],
   "source": [
    "for index, row in training_data.iterrows():\n",
    "    with open(chatgpt_results_files[index], 'r') as f:\n",
    "        chatgpt_raw_response = f.read()\n",
    "        training_data.at[index, 'chatgpt_raw_response'] = chatgpt_raw_response\n",
    "        try:\n",
    "            chatgpt_raw_response = re.sub(start_json_pattern, '', chatgpt_raw_response).strip()\n",
    "            chatgpt_response = json.loads(chatgpt_raw_response)\n",
    "        except json.JSONDecodeError:\n",
    "            print(chatgpt_raw_response)\n",
    "        training_data.at[index, 'chatgpt_extracted_location'] = chatgpt_response['location']\n",
    "        training_data.at[index, 'chatgpt_extracted_situation'] = chatgpt_response['situation']\n",
    "        training_data.at[index, 'chatgpt_extracted_risk'] = chatgpt_response['risk']\n",
    "        training_data.at[index, 'chatgpt_extracted_message'] = chatgpt_response['message']"
   ],
   "metadata": {
    "collapsed": false,
    "ExecuteTime": {
     "end_time": "2023-12-14T11:09:32.557542Z",
     "start_time": "2023-12-14T11:09:24.445946Z"
    }
   },
   "id": "df4243b6fb070f4c"
  },
  {
   "cell_type": "code",
   "execution_count": 43,
   "outputs": [
    {
     "data": {
      "text/plain": "     town  section     scenario  part  \\\n0  Town12       81  StaticCutIn     1   \n1  Town12       81  StaticCutIn     1   \n2  Town12       81  StaticCutIn     1   \n3  Town12       81  StaticCutIn     1   \n4  Town12       81  StaticCutIn     1   \n\n                                             objects  \\\n0  [(30, 'vehicle.ford.mustang'), (15, 'vehicle.m...   \n1  [(29, 'vehicle.ford.mustang'), (14, 'vehicle.m...   \n2  [(28, 'vehicle.ford.mustang'), (13, 'vehicle.m...   \n3  [(30, 'vehicle.nissan.patrol_2021'), (30, 'veh...   \n4  [(48, 'vehicle.mini.cooper_s_2021'), (7, 'vehi...   \n\n                                            controls  \\\n0  [{'throttle': 0.75, 'steer': 2.133598718501161...   \n1  [{'throttle': 0.75, 'steer': 0.000891609524842...   \n2  [{'throttle': 0.75, 'steer': -0.00017667813517...   \n3  [{'throttle': 0.0, 'steer': 0.0002305144735146...   \n4  [{'throttle': 0.0, 'steer': -0.000179785565705...   \n\n                                chatgpt_raw_response  \\\n0  {\\n  \"location\": \"City street\",\\n  \"situation\"...   \n1  {\\n  \"location\": \"City street\",\\n  \"situation\"...   \n2  {\\n  \"location\": \"City street\",\\n  \"situation\"...   \n3  {\\n  \"location\": \"Urban area\",\\n  \"situation\":...   \n4  {\\n  \"location\": \"City street\",\\n  \"situation\"...   \n\n  chatgpt_extracted_location  \\\n0                City street   \n1                City street   \n2                City street   \n3                 Urban area   \n4                City street   \n\n                         chatgpt_extracted_situation chatgpt_extracted_risk  \\\n0                      Approaching multiple vehicles                 medium   \n1  Approaching multiple vehicles and a traffic light                 medium   \n2  Approaching multiple vehicles and a traffic light                 medium   \n3      Approaching multiple vehicles and a stop sign                 medium   \n4       Approaching a stop sign with vehicles nearby                 medium   \n\n                           chatgpt_extracted_message  \n0  Stay focused, be aware of surrounding vehicles...  \n1  Stay alert, approaching vehicles and traffic l...  \n2  Stay focused, be prepared to slow down for the...  \n3  Stay alert, slow down, and prepare to stop at ...  \n4  Approach the stop sign cautiously, there are v...  ",
      "text/html": "<div>\n<style scoped>\n    .dataframe tbody tr th:only-of-type {\n        vertical-align: middle;\n    }\n\n    .dataframe tbody tr th {\n        vertical-align: top;\n    }\n\n    .dataframe thead th {\n        text-align: right;\n    }\n</style>\n<table border=\"1\" class=\"dataframe\">\n  <thead>\n    <tr style=\"text-align: right;\">\n      <th></th>\n      <th>town</th>\n      <th>section</th>\n      <th>scenario</th>\n      <th>part</th>\n      <th>objects</th>\n      <th>controls</th>\n      <th>chatgpt_raw_response</th>\n      <th>chatgpt_extracted_location</th>\n      <th>chatgpt_extracted_situation</th>\n      <th>chatgpt_extracted_risk</th>\n      <th>chatgpt_extracted_message</th>\n    </tr>\n  </thead>\n  <tbody>\n    <tr>\n      <th>0</th>\n      <td>Town12</td>\n      <td>81</td>\n      <td>StaticCutIn</td>\n      <td>1</td>\n      <td>[(30, 'vehicle.ford.mustang'), (15, 'vehicle.m...</td>\n      <td>[{'throttle': 0.75, 'steer': 2.133598718501161...</td>\n      <td>{\\n  \"location\": \"City street\",\\n  \"situation\"...</td>\n      <td>City street</td>\n      <td>Approaching multiple vehicles</td>\n      <td>medium</td>\n      <td>Stay focused, be aware of surrounding vehicles...</td>\n    </tr>\n    <tr>\n      <th>1</th>\n      <td>Town12</td>\n      <td>81</td>\n      <td>StaticCutIn</td>\n      <td>1</td>\n      <td>[(29, 'vehicle.ford.mustang'), (14, 'vehicle.m...</td>\n      <td>[{'throttle': 0.75, 'steer': 0.000891609524842...</td>\n      <td>{\\n  \"location\": \"City street\",\\n  \"situation\"...</td>\n      <td>City street</td>\n      <td>Approaching multiple vehicles and a traffic light</td>\n      <td>medium</td>\n      <td>Stay alert, approaching vehicles and traffic l...</td>\n    </tr>\n    <tr>\n      <th>2</th>\n      <td>Town12</td>\n      <td>81</td>\n      <td>StaticCutIn</td>\n      <td>1</td>\n      <td>[(28, 'vehicle.ford.mustang'), (13, 'vehicle.m...</td>\n      <td>[{'throttle': 0.75, 'steer': -0.00017667813517...</td>\n      <td>{\\n  \"location\": \"City street\",\\n  \"situation\"...</td>\n      <td>City street</td>\n      <td>Approaching multiple vehicles and a traffic light</td>\n      <td>medium</td>\n      <td>Stay focused, be prepared to slow down for the...</td>\n    </tr>\n    <tr>\n      <th>3</th>\n      <td>Town12</td>\n      <td>81</td>\n      <td>StaticCutIn</td>\n      <td>1</td>\n      <td>[(30, 'vehicle.nissan.patrol_2021'), (30, 'veh...</td>\n      <td>[{'throttle': 0.0, 'steer': 0.0002305144735146...</td>\n      <td>{\\n  \"location\": \"Urban area\",\\n  \"situation\":...</td>\n      <td>Urban area</td>\n      <td>Approaching multiple vehicles and a stop sign</td>\n      <td>medium</td>\n      <td>Stay alert, slow down, and prepare to stop at ...</td>\n    </tr>\n    <tr>\n      <th>4</th>\n      <td>Town12</td>\n      <td>81</td>\n      <td>StaticCutIn</td>\n      <td>1</td>\n      <td>[(48, 'vehicle.mini.cooper_s_2021'), (7, 'vehi...</td>\n      <td>[{'throttle': 0.0, 'steer': -0.000179785565705...</td>\n      <td>{\\n  \"location\": \"City street\",\\n  \"situation\"...</td>\n      <td>City street</td>\n      <td>Approaching a stop sign with vehicles nearby</td>\n      <td>medium</td>\n      <td>Approach the stop sign cautiously, there are v...</td>\n    </tr>\n  </tbody>\n</table>\n</div>"
     },
     "execution_count": 43,
     "metadata": {},
     "output_type": "execute_result"
    }
   ],
   "source": [
    "training_data.head(5)"
   ],
   "metadata": {
    "collapsed": false,
    "ExecuteTime": {
     "end_time": "2023-12-14T11:09:32.563630Z",
     "start_time": "2023-12-14T11:09:32.559962Z"
    }
   },
   "id": "7a1c46127208782a"
  },
  {
   "cell_type": "code",
   "execution_count": 46,
   "outputs": [],
   "source": [
    "training_data.to_csv(output_path, index=False)"
   ],
   "metadata": {
    "collapsed": false,
    "ExecuteTime": {
     "end_time": "2023-12-14T11:12:39.811478Z",
     "start_time": "2023-12-14T11:12:38.660752Z"
    }
   },
   "id": "a46615d3c98b81d8"
  },
  {
   "cell_type": "code",
   "execution_count": null,
   "outputs": [],
   "source": [],
   "metadata": {
    "collapsed": false
   },
   "id": "f6aef3db060b64"
  }
 ],
 "metadata": {
  "kernelspec": {
   "display_name": "Python 3",
   "language": "python",
   "name": "python3"
  },
  "language_info": {
   "codemirror_mode": {
    "name": "ipython",
    "version": 2
   },
   "file_extension": ".py",
   "mimetype": "text/x-python",
   "name": "python",
   "nbconvert_exporter": "python",
   "pygments_lexer": "ipython2",
   "version": "2.7.6"
  }
 },
 "nbformat": 4,
 "nbformat_minor": 5
}
