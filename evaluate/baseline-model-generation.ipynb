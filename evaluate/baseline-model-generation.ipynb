{
 "cells": [
  {
   "cell_type": "code",
   "execution_count": null,
   "id": "initial_id",
   "metadata": {
    "collapsed": true,
    "ExecuteTime": {
     "end_time": "2023-12-22T00:50:04.708686Z",
     "start_time": "2023-12-22T00:50:04.707674Z"
    }
   },
   "outputs": [],
   "source": [
    "import torch\n",
    "import pandas as pd\n",
    "from pathlib import Path\n",
    "from tqdm import tqdm\n",
    "from transformers import AutoTokenizer, AutoModelForSeq2SeqLM"
   ]
  },
  {
   "cell_type": "code",
   "execution_count": null,
   "outputs": [],
   "source": [
    "model_name = \"google/flan-t5-base\"\n",
    "tuned_path = Path(\"\")\n",
    "device = \"cpu\"\n",
    "if torch.cuda.is_available():\n",
    "    device = \"cuda\"\n",
    "elif torch.backends.mps.is_available():\n",
    "    device = \"mps\""
   ],
   "metadata": {
    "collapsed": false,
    "ExecuteTime": {
     "start_time": "2023-12-22T00:50:04.709074Z"
    }
   },
   "id": "137543ca6f2367b1"
  },
  {
   "cell_type": "code",
   "execution_count": null,
   "outputs": [],
   "source": [
    "original_model = AutoModelForSeq2SeqLM.from_pretrained(model_name).to(device)\n",
    "tokenizer = AutoTokenizer.from_pretrained(model_name)"
   ],
   "metadata": {
    "collapsed": false,
    "ExecuteTime": {
     "start_time": "2023-12-22T00:50:04.710280Z"
    }
   },
   "id": "c6bd05051a125f20"
  },
  {
   "cell_type": "code",
   "execution_count": null,
   "outputs": [],
   "source": [
    "result_path = Path(\"base_model_results\")\n",
    "result_path.mkdir(exist_ok=True)"
   ],
   "metadata": {
    "collapsed": false,
    "ExecuteTime": {
     "start_time": "2023-12-22T00:50:04.711507Z"
    }
   },
   "id": "d9dc5155ad6a9990"
  },
  {
   "cell_type": "code",
   "execution_count": null,
   "outputs": [],
   "source": [
    "small_test_path = Path(\"../data/test_small.csv\")\n",
    "dataset = pd.read_csv(small_test_path)\n",
    "dataset.info()"
   ],
   "metadata": {
    "collapsed": false,
    "ExecuteTime": {
     "start_time": "2023-12-22T00:50:04.712261Z"
    }
   },
   "id": "7135993973b29412"
  },
  {
   "cell_type": "code",
   "execution_count": null,
   "outputs": [],
   "source": [
    "PROMPT_TEMPLATE = \"\"\"You're monitoring a driving assessment session. You're provided with real-time driving information including objects within 50 meters around the vehicle and the current vehicle state. The vehicle state has 4 elements:\n",
    "\n",
    "1. throttle: a number between 0 and 0.7, where 0.7 indicates throttling\n",
    "2. steering: a number in the range -1 to 1, where 0 indicates no steering\n",
    "3. brake: a boolean, where True indicates that there is a brake\n",
    "4. speed: current driving speed in km/h\n",
    "\n",
    "Objects within 50 meters around the driver\n",
    "\n",
    "Format\n",
    "```\n",
    "(distance between the driver and a target, a target: vehicle, pedestrian, stop sign, or traffic light)\n",
    "```\n",
    "\n",
    "Objects\n",
    "```json\n",
    "{}\n",
    "```\n",
    "\n",
    "Vehicle state\n",
    "```json\n",
    "{}\n",
    "```\n",
    "\n",
    "You are asked to give a comment on the current situation to support the driver by improving situation awareness and maintaining their high valence and medium arousal. The maximum length of comment is 10 words.\n",
    "\n",
    "Following these steps to come up with a message:\n",
    " 1. Think about the current location of the vehicle based on the provided information\n",
    " 2. Think about the current situation of the vehicle based on the provided information\n",
    " 3. Think if the current situation is safe or not. Does it possibly lead to hazardous events?\n",
    " 4. Give a message to improve situation awareness and maintain their high valence and medium arousal\n",
    " \n",
    "Output format\n",
    "```json\n",
    "{{\n",
    "  \"location\": the current location,\n",
    "  \"situation\": description of the current situation,\n",
    "  \"risk\": risk level (\"very high\", \"high\", \"medium\", \"low\", \"very low\"),\n",
    "  “message”: message\n",
    "}}\n",
    "```\"\"\""
   ],
   "metadata": {
    "collapsed": false,
    "ExecuteTime": {
     "start_time": "2023-12-22T00:50:04.713171Z"
    }
   },
   "id": "2be1b70b68ccc068"
  },
  {
   "cell_type": "code",
   "execution_count": null,
   "outputs": [],
   "source": [
    "interrupted = False\n",
    "\n",
    "try:\n",
    "    for index, row in tqdm(dataset.iterrows(), total=len(dataset)):\n",
    "        if result_path.joinpath(f\"{index}.txt\").exists():\n",
    "            continue\n",
    "\n",
    "        prompt = PROMPT_TEMPLATE.format(row[\"objects\"], row[\"controls\"])\n",
    "        inputs = tokenizer(prompt, return_tensors=\"pt\").to(device)\n",
    "        outputs = original_model.generate(**inputs, max_length=1024)\n",
    "        result = tokenizer.decode(outputs[0], skip_special_tokens=True)\n",
    "        result_path.joinpath(f\"{index}.txt\").write_text(result)\n",
    "\n",
    "        if interrupted:\n",
    "            print(\"Interrupt received, stopping...\")\n",
    "            break\n",
    "except KeyboardInterrupt:\n",
    "    print(\"Received interrupt, finishing current iteration...\")\n",
    "    interrupted = True"
   ],
   "metadata": {
    "collapsed": false
   },
   "id": "e0776a716fd4ac56"
  }
 ],
 "metadata": {
  "kernelspec": {
   "display_name": "Python 3",
   "language": "python",
   "name": "python3"
  },
  "language_info": {
   "codemirror_mode": {
    "name": "ipython",
    "version": 2
   },
   "file_extension": ".py",
   "mimetype": "text/x-python",
   "name": "python",
   "nbconvert_exporter": "python",
   "pygments_lexer": "ipython2",
   "version": "2.7.6"
  }
 },
 "nbformat": 4,
 "nbformat_minor": 5
}
