{
 "cells": [
  {
   "cell_type": "code",
   "execution_count": null,
   "outputs": [],
   "source": [
    "import torch\n",
    "from pathlib import Path\n",
    "from transformers import AutoTokenizer, AutoModelForSeq2SeqLM"
   ],
   "metadata": {
    "collapsed": false
   },
   "id": "f7af8e3f3ceca453"
  },
  {
   "cell_type": "code",
   "execution_count": null,
   "outputs": [],
   "source": [
    "model_name = \"google/flan-t5-base\"\n",
    "tuned_path = Path(\"\")\n",
    "device = \"cpu\"\n",
    "if torch.cuda.is_available():\n",
    "    device = \"cuda\"\n",
    "elif torch.backends.mps.is_available():\n",
    "    device = \"mps\""
   ],
   "metadata": {
    "collapsed": false
   },
   "id": "c31e0a17d9bf31cd"
  },
  {
   "cell_type": "code",
   "execution_count": null,
   "id": "initial_id",
   "metadata": {
    "collapsed": true
   },
   "outputs": [],
   "source": [
    "tuned_model = AutoModelForSeq2SeqLM.from_pretrained(tuned_path).to(device)\n",
    "original_model = AutoModelForSeq2SeqLM.from_pretrained(model_name).to(device)"
   ]
  },
  {
   "cell_type": "code",
   "execution_count": null,
   "outputs": [],
   "source": [
    "tokenizer = AutoTokenizer.from_pretrained(\"google/flan-t5-xxl\")"
   ],
   "metadata": {
    "collapsed": false
   },
   "id": "1e97d7ffd8444b39"
  },
  {
   "cell_type": "code",
   "execution_count": null,
   "outputs": [],
   "source": [
    "PROMPT_TEMPLATE = \"\"\"You're monitoring a driving assessment session. You're provided with real-time driving information including objects within 50 meters around the vehicle and the current vehicle state. The vehicle state has 4 elements:\n",
    "\n",
    "1. throttle: a number between 0 and 0.7, where 0.7 indicates throttling\n",
    "2. steering: a number in the range -1 to 1, where 0 indicates no steering\n",
    "3. brake: a boolean, where True indicates that there is a brake\n",
    "4. speed: current driving speed in km/h\n",
    "\n",
    "Objects within 50 meters around the driver\n",
    "\n",
    "Format\n",
    "```\n",
    "(distance between the driver and a target, a target: vehicle, pedestrian, stop sign, or traffic light)\n",
    "```\n",
    "\n",
    "Objects\n",
    "```json\n",
    "{}\n",
    "```\n",
    "\n",
    "Vehicle state\n",
    "```json\n",
    "{}\n",
    "```\n",
    "\n",
    "You are asked to give a comment on the current situation to support the driver by improving situation awareness and maintaining their high valence and medium arousal. The maximum length of comment is 10 words.\n",
    "\n",
    "Following these steps to come up with a message:\n",
    " 1. Think about the current location of the vehicle based on the provided information\n",
    " 2. Think about the current situation of the vehicle based on the provided information\n",
    " 3. Think if the current situation is safe or not. Does it possibly lead to hazardous events?\n",
    " 4. Give a message to improve situation awareness and maintain their high valence and medium arousal\n",
    " \n",
    "Output format\n",
    "```json\n",
    "{{\n",
    "  \"location\": the current location,\n",
    "  \"situation\": description of the current situation,\n",
    "  \"risk\": risk level (\"very high\", \"high\", \"medium\", \"low\", \"very low\"),\n",
    "  “message”: message\n",
    "}}\n",
    "```\"\"\""
   ],
   "metadata": {
    "collapsed": false
   },
   "id": "c3c35290b8930f46"
  },
  {
   "cell_type": "code",
   "execution_count": null,
   "outputs": [],
   "source": [
    "prompt = PROMPT_TEMPLATE.format(\n",
    "    \"[(30, 'vehicle.dodge.charger_2020'), (11, 'vehicle.nissan.patrol_2021'), (8, 'vehicle.chevrolet.impala'), (28, 'vehicle.chevrolet.impala'), (37, 'vehicle.chevrolet.impala'), (18, 'vehicle.mercedes.coupe_2020'), (15, 'vehicle.ford.mustang'), (33, 'vehicle.ford.mustang')]\",\n",
    "    \"[{'throttle': 0.75, 'steer': -5.390584192355163e-07, 'brake': False, 'speed': 7.653334140777588, 'speedLimit': 30.0}]\")"
   ],
   "metadata": {
    "collapsed": false
   },
   "id": "645bcc1a3badcf9f"
  },
  {
   "cell_type": "code",
   "execution_count": null,
   "outputs": [],
   "source": [
    "inputs = tokenizer(prompt, return_tensors=\"pt\").to(device)\n",
    "outputs = original_model.generate(**inputs, max_new_tokens=1024)\n",
    "print(tokenizer.batch_decode(outputs, skip_special_tokens=True)[0])"
   ],
   "metadata": {
    "collapsed": false
   },
   "id": "f31051e449f73420"
  }
 ],
 "metadata": {
  "kernelspec": {
   "display_name": "Python 3",
   "language": "python",
   "name": "python3"
  },
  "language_info": {
   "codemirror_mode": {
    "name": "ipython",
    "version": 2
   },
   "file_extension": ".py",
   "mimetype": "text/x-python",
   "name": "python",
   "nbconvert_exporter": "python",
   "pygments_lexer": "ipython2",
   "version": "2.7.6"
  }
 },
 "nbformat": 4,
 "nbformat_minor": 5
}
