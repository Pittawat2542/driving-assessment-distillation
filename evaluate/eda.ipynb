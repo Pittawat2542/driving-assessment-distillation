{
 "cells": [
  {
   "cell_type": "code",
   "outputs": [],
   "source": [
    "from pathlib import Path\n",
    "from numpy import average\n",
    "import json"
   ],
   "metadata": {
    "collapsed": false,
    "ExecuteTime": {
     "end_time": "2024-01-09T10:47:40.863243Z",
     "start_time": "2024-01-09T10:47:40.315953Z"
    }
   },
   "id": "ff85d46c76a32864",
   "execution_count": 1
  },
  {
   "cell_type": "code",
   "execution_count": 2,
   "id": "initial_id",
   "metadata": {
    "collapsed": true,
    "ExecuteTime": {
     "end_time": "2024-01-09T10:47:40.886313Z",
     "start_time": "2024-01-09T10:47:40.870577Z"
    }
   },
   "outputs": [],
   "source": [
    "VECTOR_DB_OUTPUT_PATH = Path(\"outputs/vectordb\")"
   ]
  },
  {
   "cell_type": "code",
   "outputs": [
    {
     "data": {
      "text/plain": "2425"
     },
     "execution_count": 3,
     "metadata": {},
     "output_type": "execute_result"
    }
   ],
   "source": [
    "files = list(VECTOR_DB_OUTPUT_PATH.glob(\"*.json\"))\n",
    "len(files)"
   ],
   "metadata": {
    "collapsed": false,
    "ExecuteTime": {
     "end_time": "2024-01-09T10:47:40.898349Z",
     "start_time": "2024-01-09T10:47:40.887859Z"
    }
   },
   "id": "da6dba47d8c8ebce",
   "execution_count": 3
  },
  {
   "cell_type": "code",
   "outputs": [],
   "source": [
    "distances = []\n",
    "for file in files:\n",
    "    with open(file, \"r\") as f:\n",
    "        data = json.load(f)\n",
    "    distances.append(data[\"vector_db_distance\"])"
   ],
   "metadata": {
    "collapsed": false,
    "ExecuteTime": {
     "end_time": "2024-01-09T10:47:43.003040Z",
     "start_time": "2024-01-09T10:47:40.895172Z"
    }
   },
   "id": "85de8c5fe54ca81",
   "execution_count": 4
  },
  {
   "cell_type": "code",
   "outputs": [
    {
     "name": "stdout",
     "output_type": "stream",
     "text": [
      "Average distance: 0.006953042811554923\n"
     ]
    }
   ],
   "source": [
    "avg_distance = average(distances)\n",
    "print(f\"Average distance: {avg_distance}\")"
   ],
   "metadata": {
    "collapsed": false,
    "ExecuteTime": {
     "end_time": "2023-12-28T01:08:37.881142Z",
     "start_time": "2023-12-28T01:08:37.878225Z"
    }
   },
   "id": "79e314f2ff9177f3",
   "execution_count": 5
  },
  {
   "cell_type": "code",
   "outputs": [
    {
     "name": "stdout",
     "output_type": "stream",
     "text": [
      "Median distance: 0.006919964216649532\n"
     ]
    }
   ],
   "source": [
    "distances.sort()\n",
    "median_distance = distances[len(distances) // 2]\n",
    "print(f\"Median distance: {median_distance}\")"
   ],
   "metadata": {
    "collapsed": false,
    "ExecuteTime": {
     "end_time": "2023-12-28T01:08:45.781843Z",
     "start_time": "2023-12-28T01:08:45.774986Z"
    }
   },
   "id": "1d29c22633f66d2b",
   "execution_count": 6
  }
 ],
 "metadata": {
  "kernelspec": {
   "display_name": "Python 3",
   "language": "python",
   "name": "python3"
  },
  "language_info": {
   "codemirror_mode": {
    "name": "ipython",
    "version": 2
   },
   "file_extension": ".py",
   "mimetype": "text/x-python",
   "name": "python",
   "nbconvert_exporter": "python",
   "pygments_lexer": "ipython2",
   "version": "2.7.6"
  }
 },
 "nbformat": 4,
 "nbformat_minor": 5
}
