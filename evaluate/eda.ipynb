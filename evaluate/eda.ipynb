{
 "cells": [
  {
   "cell_type": "code",
   "outputs": [],
   "source": [
    "from pathlib import Path\n",
    "from numpy import average\n",
    "import json"
   ],
   "metadata": {
    "collapsed": false,
    "ExecuteTime": {
     "end_time": "2023-12-26T09:58:48.777109Z",
     "start_time": "2023-12-26T09:58:48.775659Z"
    }
   },
   "id": "ff85d46c76a32864",
   "execution_count": 16
  },
  {
   "cell_type": "code",
   "execution_count": 17,
   "id": "initial_id",
   "metadata": {
    "collapsed": true,
    "ExecuteTime": {
     "end_time": "2023-12-26T09:58:49.048744Z",
     "start_time": "2023-12-26T09:58:49.046373Z"
    }
   },
   "outputs": [],
   "source": [
    "VECTOR_DB_OUTPUT_PATH = Path(\"outputs/vectordb\")"
   ]
  },
  {
   "cell_type": "code",
   "outputs": [
    {
     "data": {
      "text/plain": "2425"
     },
     "execution_count": 18,
     "metadata": {},
     "output_type": "execute_result"
    }
   ],
   "source": [
    "files = list(VECTOR_DB_OUTPUT_PATH.glob(\"*.json\"))\n",
    "len(files)"
   ],
   "metadata": {
    "collapsed": false,
    "ExecuteTime": {
     "end_time": "2023-12-26T09:58:49.264225Z",
     "start_time": "2023-12-26T09:58:49.258507Z"
    }
   },
   "id": "da6dba47d8c8ebce",
   "execution_count": 18
  },
  {
   "cell_type": "code",
   "outputs": [],
   "source": [
    "distances = []\n",
    "for file in files:\n",
    "    with open(file, \"r\") as f:\n",
    "        data = json.load(f)\n",
    "    distances.append(data[\"vector_db_distance\"])"
   ],
   "metadata": {
    "collapsed": false,
    "ExecuteTime": {
     "end_time": "2023-12-26T09:58:52.021599Z",
     "start_time": "2023-12-26T09:58:49.992401Z"
    }
   },
   "id": "85de8c5fe54ca81",
   "execution_count": 19
  },
  {
   "cell_type": "code",
   "outputs": [
    {
     "name": "stdout",
     "output_type": "stream",
     "text": [
      "Average distance: 0.006953042811554923\n"
     ]
    }
   ],
   "source": [
    "avg_distance = average(distances)\n",
    "print(f\"Average distance: {avg_distance}\")"
   ],
   "metadata": {
    "collapsed": false,
    "ExecuteTime": {
     "end_time": "2023-12-26T09:58:52.024883Z",
     "start_time": "2023-12-26T09:58:52.022430Z"
    }
   },
   "id": "79e314f2ff9177f3",
   "execution_count": 20
  }
 ],
 "metadata": {
  "kernelspec": {
   "display_name": "Python 3",
   "language": "python",
   "name": "python3"
  },
  "language_info": {
   "codemirror_mode": {
    "name": "ipython",
    "version": 2
   },
   "file_extension": ".py",
   "mimetype": "text/x-python",
   "name": "python",
   "nbconvert_exporter": "python",
   "pygments_lexer": "ipython2",
   "version": "2.7.6"
  }
 },
 "nbformat": 4,
 "nbformat_minor": 5
}
