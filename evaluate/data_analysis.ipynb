{
 "cells": [
  {
   "cell_type": "code",
   "execution_count": 1,
   "id": "initial_id",
   "metadata": {
    "collapsed": true,
    "ExecuteTime": {
     "end_time": "2024-01-09T10:49:10.293455Z",
     "start_time": "2024-01-09T10:49:07.789249Z"
    }
   },
   "outputs": [],
   "source": [
    "from pathlib import Path\n",
    "import pandas as pd\n",
    "import json\n",
    "from scipy.spatial.distance import cosine, euclidean, cityblock, chebyshev"
   ]
  },
  {
   "cell_type": "code",
   "outputs": [],
   "source": [
    "def string_to_vector(s):\n",
    "    return [float(x) for x in s.replace('[', '').replace(']', '').split(\",\")]"
   ],
   "metadata": {
    "collapsed": false,
    "ExecuteTime": {
     "end_time": "2024-01-09T10:49:10.298892Z",
     "start_time": "2024-01-09T10:49:10.293611Z"
    }
   },
   "id": "a31375332a4de4f8",
   "execution_count": 2
  },
  {
   "cell_type": "markdown",
   "source": [
    "# Find inference time of ChatGPT"
   ],
   "metadata": {
    "collapsed": false
   },
   "id": "bcf5c067a23b852b"
  },
  {
   "cell_type": "code",
   "outputs": [],
   "source": [
    "chatgpt_log_path = Path('../data/chatgpt/logs')"
   ],
   "metadata": {
    "collapsed": false,
    "ExecuteTime": {
     "end_time": "2024-01-09T10:49:10.300092Z",
     "start_time": "2024-01-09T10:49:10.296724Z"
    }
   },
   "id": "84e9bf98bc5ea5cb",
   "execution_count": 3
  },
  {
   "cell_type": "code",
   "outputs": [],
   "source": [
    "chatgpt_log_files = list(chatgpt_log_path.glob('*.log'))"
   ],
   "metadata": {
    "collapsed": false,
    "ExecuteTime": {
     "end_time": "2024-01-09T10:49:10.303298Z",
     "start_time": "2024-01-09T10:49:10.299529Z"
    }
   },
   "id": "491c5c5bb76cdc22",
   "execution_count": 4
  },
  {
   "cell_type": "code",
   "outputs": [],
   "source": [
    "def extract_time_from_line(line):\n",
    "    if 'Time taken:' in line:\n",
    "        return float(line.split('Time taken:')[1].split('s')[0])\n",
    "    else:\n",
    "        return None"
   ],
   "metadata": {
    "collapsed": false,
    "ExecuteTime": {
     "end_time": "2024-01-09T10:49:10.308456Z",
     "start_time": "2024-01-09T10:49:10.303377Z"
    }
   },
   "id": "2dc491cc35d6cf2b",
   "execution_count": 5
  },
  {
   "cell_type": "code",
   "outputs": [],
   "source": [
    "def extract_time_from_file(file):\n",
    "    with open(file, 'r') as f:\n",
    "        lines = f.readlines()\n",
    "    times = [extract_time_from_line(line) for line in lines]\n",
    "    times = [time for time in times if time is not None]\n",
    "    return times"
   ],
   "metadata": {
    "collapsed": false,
    "ExecuteTime": {
     "end_time": "2024-01-09T10:49:10.309795Z",
     "start_time": "2024-01-09T10:49:10.305986Z"
    }
   },
   "id": "7f361f318e4a4ec7",
   "execution_count": 6
  },
  {
   "cell_type": "code",
   "outputs": [],
   "source": [
    "chatgpt_times = [extract_time_from_file(file) for file in chatgpt_log_files]"
   ],
   "metadata": {
    "collapsed": false,
    "ExecuteTime": {
     "end_time": "2024-01-09T10:49:12.076250Z",
     "start_time": "2024-01-09T10:49:10.308688Z"
    }
   },
   "id": "599ab3e2be328a3b",
   "execution_count": 7
  },
  {
   "cell_type": "code",
   "outputs": [],
   "source": [
    "chatgpt_times = [time for times in chatgpt_times for time in times]"
   ],
   "metadata": {
    "collapsed": false,
    "ExecuteTime": {
     "end_time": "2024-01-09T10:49:12.078875Z",
     "start_time": "2024-01-09T10:49:12.074261Z"
    }
   },
   "id": "7d144a92818cb811",
   "execution_count": 8
  },
  {
   "cell_type": "code",
   "outputs": [],
   "source": [
    "chatgpt_times = pd.Series(chatgpt_times)"
   ],
   "metadata": {
    "collapsed": false,
    "ExecuteTime": {
     "end_time": "2024-01-09T10:49:12.089439Z",
     "start_time": "2024-01-09T10:49:12.076692Z"
    }
   },
   "id": "4368bc28c148edbe",
   "execution_count": 9
  },
  {
   "cell_type": "code",
   "outputs": [
    {
     "data": {
      "text/plain": "count    124253.000000\nmean          1.590521\nstd           1.465772\nmin           0.566465\n25%           1.001180\n50%           1.253083\n75%           1.779438\nmax          65.057091\ndtype: float64"
     },
     "execution_count": 10,
     "metadata": {},
     "output_type": "execute_result"
    }
   ],
   "source": [
    "chatgpt_times.describe()"
   ],
   "metadata": {
    "collapsed": false,
    "ExecuteTime": {
     "end_time": "2024-01-09T10:49:12.093651Z",
     "start_time": "2024-01-09T10:49:12.083907Z"
    }
   },
   "id": "fe7a69a5bea468d3",
   "execution_count": 10
  },
  {
   "cell_type": "code",
   "outputs": [],
   "source": [
    "test_set_path = Path('../data/test_small.csv')\n",
    "test_df = pd.read_csv(test_set_path)"
   ],
   "metadata": {
    "collapsed": false,
    "ExecuteTime": {
     "end_time": "2024-01-09T10:49:13.083382Z",
     "start_time": "2024-01-09T10:49:12.092922Z"
    }
   },
   "id": "efc6ce1e9aabd20b",
   "execution_count": 11
  },
  {
   "cell_type": "code",
   "outputs": [],
   "source": [
    "def analyse(output_path):\n",
    "    times = []\n",
    "    performance = {\n",
    "        'cosine': [],\n",
    "        'euclidean': [],\n",
    "        'cityblock': [],\n",
    "        'chebyshev': []\n",
    "    }\n",
    "    for index, row in test_df.iterrows():\n",
    "        file = output_path / f'{index}.json'\n",
    "        with open(file, 'r') as f:\n",
    "            generated_message = json.load(f)\n",
    "            times.append(generated_message['time'])\n",
    "            if generated_message.get('embedding', None) is not None:\n",
    "                embedding = generated_message['embedding']\n",
    "                gt_embedding = string_to_vector(row['message_embedding'])\n",
    "                performance['cosine'].append(cosine(embedding, gt_embedding))\n",
    "                performance['euclidean'].append(euclidean(embedding, gt_embedding))\n",
    "                performance['cityblock'].append(cityblock(embedding, gt_embedding))\n",
    "                performance['chebyshev'].append(chebyshev(embedding, gt_embedding))\n",
    "            else:\n",
    "                performance['cosine'].append(generated_message['cosine'])\n",
    "                performance['euclidean'].append(generated_message['euclidean'])\n",
    "                performance['cityblock'].append(generated_message['cityblock'])\n",
    "                performance['chebyshev'].append(generated_message['chebyshev'])\n",
    "    times = pd.Series(times)\n",
    "    performance['cosine'] = pd.Series(performance['cosine'])\n",
    "    performance['euclidean'] = pd.Series(performance['euclidean'])\n",
    "    performance['cityblock'] = pd.Series(performance['cityblock'])\n",
    "    performance['chebyshev'] = pd.Series(performance['chebyshev'])\n",
    "    return times, performance"
   ],
   "metadata": {
    "collapsed": false,
    "ExecuteTime": {
     "end_time": "2024-01-09T10:49:13.087356Z",
     "start_time": "2024-01-09T10:49:13.084505Z"
    }
   },
   "id": "8adb053dddbef6bf",
   "execution_count": 12
  },
  {
   "cell_type": "markdown",
   "source": [
    "# Accuracy and Inference time for Vector Database"
   ],
   "metadata": {
    "collapsed": false
   },
   "id": "f5247ab7a63e18d"
  },
  {
   "cell_type": "code",
   "outputs": [],
   "source": [
    "vector_output_path = Path('./outputs/vectordb')"
   ],
   "metadata": {
    "collapsed": false,
    "ExecuteTime": {
     "end_time": "2024-01-09T10:49:13.090606Z",
     "start_time": "2024-01-09T10:49:13.087057Z"
    }
   },
   "id": "ca0efbb195193782",
   "execution_count": 13
  },
  {
   "cell_type": "code",
   "outputs": [],
   "source": [
    "vector_times, vector_performance = analyse(vector_output_path)"
   ],
   "metadata": {
    "collapsed": false,
    "ExecuteTime": {
     "end_time": "2024-01-09T10:49:14.860202Z",
     "start_time": "2024-01-09T10:49:13.093127Z"
    }
   },
   "id": "5d9ee9cdb69b56a",
   "execution_count": 14
  },
  {
   "cell_type": "code",
   "outputs": [
    {
     "data": {
      "text/plain": "count    2425.000000\nmean        0.387326\nstd         0.006909\nmin         0.184687\n25%         0.384767\n50%         0.386977\n75%         0.389801\nmax         0.412625\ndtype: float64"
     },
     "execution_count": 15,
     "metadata": {},
     "output_type": "execute_result"
    }
   ],
   "source": [
    "vector_times.describe()"
   ],
   "metadata": {
    "collapsed": false,
    "ExecuteTime": {
     "end_time": "2024-01-09T10:49:14.868987Z",
     "start_time": "2024-01-09T10:49:14.860310Z"
    }
   },
   "id": "acf7149aa789fbc1",
   "execution_count": 15
  },
  {
   "cell_type": "code",
   "outputs": [
    {
     "data": {
      "text/plain": "count    2425.000000\nmean        0.062036\nstd         0.035696\nmin         0.000000\n25%         0.037643\n50%         0.067893\n75%         0.088319\nmax         0.193673\ndtype: float64"
     },
     "execution_count": 16,
     "metadata": {},
     "output_type": "execute_result"
    }
   ],
   "source": [
    "vector_performance['cosine'].describe()"
   ],
   "metadata": {
    "collapsed": false,
    "ExecuteTime": {
     "end_time": "2024-01-09T10:49:14.870450Z",
     "start_time": "2024-01-09T10:49:14.864330Z"
    }
   },
   "id": "30bd7f42b897b873",
   "execution_count": 16
  },
  {
   "cell_type": "code",
   "outputs": [
    {
     "data": {
      "text/plain": "count    2425.000000\nmean        0.321653\nstd         0.143598\nmin         0.000000\n25%         0.274383\n50%         0.368491\n75%         0.420284\nmax         0.622372\ndtype: float64"
     },
     "execution_count": 17,
     "metadata": {},
     "output_type": "execute_result"
    }
   ],
   "source": [
    "vector_performance['euclidean'].describe()"
   ],
   "metadata": {
    "collapsed": false,
    "ExecuteTime": {
     "end_time": "2024-01-09T10:49:14.874688Z",
     "start_time": "2024-01-09T10:49:14.870720Z"
    }
   },
   "id": "d9291b4a81bcae2b",
   "execution_count": 17
  },
  {
   "cell_type": "code",
   "outputs": [
    {
     "data": {
      "text/plain": "count    2425.000000\nmean       10.049913\nstd         4.489248\nmin         0.000000\n25%         8.524065\n50%        11.549316\n75%        13.131390\nmax        19.358547\ndtype: float64"
     },
     "execution_count": 18,
     "metadata": {},
     "output_type": "execute_result"
    }
   ],
   "source": [
    "vector_performance['cityblock'].describe()"
   ],
   "metadata": {
    "collapsed": false,
    "ExecuteTime": {
     "end_time": "2024-01-09T10:49:14.877817Z",
     "start_time": "2024-01-09T10:49:14.873697Z"
    }
   },
   "id": "be567e3cf0f01cae",
   "execution_count": 18
  },
  {
   "cell_type": "code",
   "outputs": [
    {
     "data": {
      "text/plain": "count    2425.000000\nmean        0.029302\nstd         0.013369\nmin         0.000000\n25%         0.024413\n50%         0.033378\n75%         0.037812\nmax         0.072392\ndtype: float64"
     },
     "execution_count": 19,
     "metadata": {},
     "output_type": "execute_result"
    }
   ],
   "source": [
    "vector_performance['chebyshev'].describe()"
   ],
   "metadata": {
    "collapsed": false,
    "ExecuteTime": {
     "end_time": "2024-01-09T10:49:14.901659Z",
     "start_time": "2024-01-09T10:49:14.877689Z"
    }
   },
   "id": "a40653cf77a8316c",
   "execution_count": 19
  },
  {
   "cell_type": "markdown",
   "source": [],
   "metadata": {
    "collapsed": false
   },
   "id": "4f447258c0b91c29"
  },
  {
   "cell_type": "markdown",
   "source": [
    "# Accuracy and Inference time for Vector Database"
   ],
   "metadata": {
    "collapsed": false
   },
   "id": "6e9a9a140bc0b495"
  },
  {
   "cell_type": "code",
   "outputs": [],
   "source": [
    "tiny_vector_output_path = Path('./outputs/vectordb_tiny')"
   ],
   "metadata": {
    "collapsed": false,
    "ExecuteTime": {
     "end_time": "2024-01-09T10:49:14.903182Z",
     "start_time": "2024-01-09T10:49:14.881645Z"
    }
   },
   "id": "105c936e4f8198d2",
   "execution_count": 20
  },
  {
   "cell_type": "code",
   "outputs": [],
   "source": [
    "tiny_vector_times, tiny_vector_performance = analyse(tiny_vector_output_path)"
   ],
   "metadata": {
    "collapsed": false,
    "ExecuteTime": {
     "end_time": "2024-01-09T10:49:17.142113Z",
     "start_time": "2024-01-09T10:49:14.883586Z"
    }
   },
   "id": "8f5b54cbbb0177dc",
   "execution_count": 21
  },
  {
   "cell_type": "code",
   "outputs": [
    {
     "data": {
      "text/plain": "count    2425.000000\nmean        0.385622\nstd         0.004909\nmin         0.342071\n25%         0.382580\n50%         0.384990\n75%         0.388215\nmax         0.410138\ndtype: float64"
     },
     "execution_count": 22,
     "metadata": {},
     "output_type": "execute_result"
    }
   ],
   "source": [
    "tiny_vector_times.describe()"
   ],
   "metadata": {
    "collapsed": false,
    "ExecuteTime": {
     "end_time": "2024-01-09T10:49:17.148192Z",
     "start_time": "2024-01-09T10:49:17.142428Z"
    }
   },
   "id": "59fdbd0935311268",
   "execution_count": 22
  },
  {
   "cell_type": "code",
   "outputs": [
    {
     "data": {
      "text/plain": "count    2425.000000\nmean        0.064629\nstd         0.034771\nmin         0.000000\n25%         0.041816\n50%         0.070616\n75%         0.090027\nmax         0.193673\ndtype: float64"
     },
     "execution_count": 23,
     "metadata": {},
     "output_type": "execute_result"
    }
   ],
   "source": [
    "tiny_vector_performance['cosine'].describe()"
   ],
   "metadata": {
    "collapsed": false,
    "ExecuteTime": {
     "end_time": "2024-01-09T10:49:17.151342Z",
     "start_time": "2024-01-09T10:49:17.146785Z"
    }
   },
   "id": "e165b76df8ce7ae6",
   "execution_count": 23
  },
  {
   "cell_type": "code",
   "outputs": [
    {
     "data": {
      "text/plain": "count    2425.000000\nmean        0.332816\nstd         0.136014\nmin         0.000000\n25%         0.289192\n50%         0.375809\n75%         0.424328\nmax         0.622372\ndtype: float64"
     },
     "execution_count": 24,
     "metadata": {},
     "output_type": "execute_result"
    }
   ],
   "source": [
    "tiny_vector_performance['euclidean'].describe()"
   ],
   "metadata": {
    "collapsed": false,
    "ExecuteTime": {
     "end_time": "2024-01-09T10:49:17.155002Z",
     "start_time": "2024-01-09T10:49:17.151175Z"
    }
   },
   "id": "bda37a0fd74c230",
   "execution_count": 24
  },
  {
   "cell_type": "code",
   "outputs": [
    {
     "data": {
      "text/plain": "count    2425.000000\nmean       10.401247\nstd         4.253315\nmin         0.000000\n25%         9.050577\n50%        11.695378\n75%        13.297423\nmax        19.358547\ndtype: float64"
     },
     "execution_count": 25,
     "metadata": {},
     "output_type": "execute_result"
    }
   ],
   "source": [
    "tiny_vector_performance['cityblock'].describe()"
   ],
   "metadata": {
    "collapsed": false,
    "ExecuteTime": {
     "end_time": "2024-01-09T10:49:17.160861Z",
     "start_time": "2024-01-09T10:49:17.154853Z"
    }
   },
   "id": "397e011cfae71735",
   "execution_count": 25
  },
  {
   "cell_type": "code",
   "outputs": [
    {
     "data": {
      "text/plain": "count    2425.000000\nmean        0.030271\nstd         0.012690\nmin         0.000000\n25%         0.025429\n50%         0.033900\n75%         0.038155\nmax         0.072392\ndtype: float64"
     },
     "execution_count": 26,
     "metadata": {},
     "output_type": "execute_result"
    }
   ],
   "source": [
    "tiny_vector_performance['chebyshev'].describe()"
   ],
   "metadata": {
    "collapsed": false,
    "ExecuteTime": {
     "end_time": "2024-01-09T10:49:17.164467Z",
     "start_time": "2024-01-09T10:49:17.159344Z"
    }
   },
   "id": "5b84c69e43f7cdb9",
   "execution_count": 26
  },
  {
   "cell_type": "markdown",
   "source": [
    "# Accuracy and Inference time for Base Model (without Distillation)"
   ],
   "metadata": {
    "collapsed": false
   },
   "id": "bf97571906a5a4b6"
  },
  {
   "cell_type": "code",
   "outputs": [],
   "source": [
    "base_output_path = Path('./outputs/embeddings/flan-t5-base')"
   ],
   "metadata": {
    "collapsed": false,
    "ExecuteTime": {
     "end_time": "2024-01-09T10:49:17.194669Z",
     "start_time": "2024-01-09T10:49:17.162772Z"
    }
   },
   "id": "e54b9f3340895c7e",
   "execution_count": 27
  },
  {
   "cell_type": "code",
   "outputs": [],
   "source": [
    "base_times, base_performance = analyse(base_output_path)"
   ],
   "metadata": {
    "collapsed": false,
    "ExecuteTime": {
     "end_time": "2024-01-09T10:49:20.226616Z",
     "start_time": "2024-01-09T10:49:17.165683Z"
    }
   },
   "id": "6d2a9ffb739a2e0d",
   "execution_count": 28
  },
  {
   "cell_type": "code",
   "outputs": [
    {
     "data": {
      "text/plain": "count    2425.000000\nmean        0.283156\nstd         0.268420\nmin         0.225191\n25%         0.239736\n50%         0.248010\n75%         0.267751\nmax         6.839332\ndtype: float64"
     },
     "execution_count": 29,
     "metadata": {},
     "output_type": "execute_result"
    }
   ],
   "source": [
    "base_times.describe()"
   ],
   "metadata": {
    "collapsed": false,
    "ExecuteTime": {
     "end_time": "2024-01-09T10:49:20.234307Z",
     "start_time": "2024-01-09T10:49:20.226607Z"
    }
   },
   "id": "c8e2d463bc0d75fe",
   "execution_count": 29
  },
  {
   "cell_type": "code",
   "outputs": [
    {
     "data": {
      "text/plain": "count    2425.000000\nmean        0.277940\nstd         0.027998\nmin         0.234319\n25%         0.255328\n50%         0.269972\n75%         0.289578\nmax         0.361683\ndtype: float64"
     },
     "execution_count": 30,
     "metadata": {},
     "output_type": "execute_result"
    }
   ],
   "source": [
    "base_performance['cosine'].describe()"
   ],
   "metadata": {
    "collapsed": false,
    "ExecuteTime": {
     "end_time": "2024-01-09T10:49:20.236683Z",
     "start_time": "2024-01-09T10:49:20.231161Z"
    }
   },
   "id": "b0e222b48bc48d3f",
   "execution_count": 30
  },
  {
   "cell_type": "code",
   "outputs": [
    {
     "data": {
      "text/plain": "count    2425.000000\nmean        0.744670\nstd         0.036702\nmin         0.684571\n25%         0.714602\n50%         0.734809\n75%         0.761023\nmax         0.850509\ndtype: float64"
     },
     "execution_count": 31,
     "metadata": {},
     "output_type": "execute_result"
    }
   ],
   "source": [
    "base_performance['euclidean'].describe()"
   ],
   "metadata": {
    "collapsed": false,
    "ExecuteTime": {
     "end_time": "2024-01-09T10:49:20.239419Z",
     "start_time": "2024-01-09T10:49:20.235348Z"
    }
   },
   "id": "6a40856144e32d11",
   "execution_count": 31
  },
  {
   "cell_type": "code",
   "outputs": [
    {
     "data": {
      "text/plain": "count    2425.000000\nmean       23.101499\nstd         1.159753\nmin        21.164160\n25%        22.225591\n50%        22.803098\n75%        23.565779\nmax        26.280348\ndtype: float64"
     },
     "execution_count": 32,
     "metadata": {},
     "output_type": "execute_result"
    }
   ],
   "source": [
    "base_performance['cityblock'].describe()"
   ],
   "metadata": {
    "collapsed": false,
    "ExecuteTime": {
     "end_time": "2024-01-09T10:49:20.243485Z",
     "start_time": "2024-01-09T10:49:20.239697Z"
    }
   },
   "id": "c6bb1bd1e45ac301",
   "execution_count": 32
  },
  {
   "cell_type": "code",
   "outputs": [
    {
     "data": {
      "text/plain": "count    2425.000000\nmean        0.074263\nstd         0.011513\nmin         0.056066\n25%         0.066694\n50%         0.070592\n75%         0.075539\nmax         0.149704\ndtype: float64"
     },
     "execution_count": 33,
     "metadata": {},
     "output_type": "execute_result"
    }
   ],
   "source": [
    "base_performance['chebyshev'].describe()    "
   ],
   "metadata": {
    "collapsed": false,
    "ExecuteTime": {
     "end_time": "2024-01-09T10:49:20.250169Z",
     "start_time": "2024-01-09T10:49:20.242932Z"
    }
   },
   "id": "e857f207b866ef4",
   "execution_count": 33
  },
  {
   "cell_type": "markdown",
   "source": [
    "# Accuracy and Inference time for Distilled Model"
   ],
   "metadata": {
    "collapsed": false
   },
   "id": "d76caa2f898dd7b5"
  },
  {
   "cell_type": "code",
   "outputs": [],
   "source": [
    "distilled_output_path = Path('./outputs/embeddings/checkpoint-10000')"
   ],
   "metadata": {
    "collapsed": false,
    "ExecuteTime": {
     "end_time": "2024-01-09T10:49:20.273630Z",
     "start_time": "2024-01-09T10:49:20.246767Z"
    }
   },
   "id": "66ee315e05ac491f",
   "execution_count": 34
  },
  {
   "cell_type": "code",
   "outputs": [],
   "source": [
    "distilled_times, distilled_performance = analyse(distilled_output_path)"
   ],
   "metadata": {
    "collapsed": false,
    "ExecuteTime": {
     "end_time": "2024-01-09T10:49:23.254178Z",
     "start_time": "2024-01-09T10:49:20.249824Z"
    }
   },
   "id": "d47b5d9552de7f62",
   "execution_count": 35
  },
  {
   "cell_type": "code",
   "outputs": [
    {
     "data": {
      "text/plain": "count    2425.000000\nmean        0.303202\nstd         0.553354\nmin         0.223693\n25%         0.238294\n50%         0.246649\n75%         0.262651\nmax        15.278507\ndtype: float64"
     },
     "execution_count": 36,
     "metadata": {},
     "output_type": "execute_result"
    }
   ],
   "source": [
    "distilled_times.describe()"
   ],
   "metadata": {
    "collapsed": false,
    "ExecuteTime": {
     "end_time": "2024-01-09T10:49:23.261496Z",
     "start_time": "2024-01-09T10:49:23.254495Z"
    }
   },
   "id": "45aa7457df763592",
   "execution_count": 36
  },
  {
   "cell_type": "code",
   "outputs": [
    {
     "data": {
      "text/plain": "count    2425.000000\nmean        0.058620\nstd         0.034661\nmin         0.000000\n25%         0.032801\n50%         0.066776\n75%         0.082258\nmax         0.164653\ndtype: float64"
     },
     "execution_count": 37,
     "metadata": {},
     "output_type": "execute_result"
    }
   ],
   "source": [
    "distilled_performance['cosine'].describe()"
   ],
   "metadata": {
    "collapsed": false,
    "ExecuteTime": {
     "end_time": "2024-01-09T10:49:23.264329Z",
     "start_time": "2024-01-09T10:49:23.259715Z"
    }
   },
   "id": "ad4460aff9eb997c",
   "execution_count": 37
  },
  {
   "cell_type": "code",
   "outputs": [
    {
     "data": {
      "text/plain": "count    2425.000000\nmean        0.310189\nstd         0.145026\nmin         0.000000\n25%         0.256127\n50%         0.365448\n75%         0.405607\nmax         0.573852\ndtype: float64"
     },
     "execution_count": 38,
     "metadata": {},
     "output_type": "execute_result"
    }
   ],
   "source": [
    "distilled_performance['euclidean'].describe()"
   ],
   "metadata": {
    "collapsed": false,
    "ExecuteTime": {
     "end_time": "2024-01-09T10:49:23.267507Z",
     "start_time": "2024-01-09T10:49:23.263710Z"
    }
   },
   "id": "9805de9735fb8e56",
   "execution_count": 38
  },
  {
   "cell_type": "code",
   "outputs": [
    {
     "data": {
      "text/plain": "count    2425.000000\nmean        9.699162\nstd         4.539895\nmin         0.000000\n25%         8.013645\n50%        11.500945\n75%        12.684517\nmax        17.832085\ndtype: float64"
     },
     "execution_count": 39,
     "metadata": {},
     "output_type": "execute_result"
    }
   ],
   "source": [
    "distilled_performance['cityblock'].describe()"
   ],
   "metadata": {
    "collapsed": false,
    "ExecuteTime": {
     "end_time": "2024-01-09T10:49:23.273391Z",
     "start_time": "2024-01-09T10:49:23.267633Z"
    }
   },
   "id": "382bb80afb41100f",
   "execution_count": 39
  },
  {
   "cell_type": "code",
   "outputs": [
    {
     "data": {
      "text/plain": "count    2425.000000\nmean        0.027921\nstd         0.013208\nmin         0.000000\n25%         0.021997\n50%         0.032793\n75%         0.035799\nmax         0.058922\ndtype: float64"
     },
     "execution_count": 40,
     "metadata": {},
     "output_type": "execute_result"
    }
   ],
   "source": [
    "distilled_performance['chebyshev'].describe()"
   ],
   "metadata": {
    "collapsed": false,
    "ExecuteTime": {
     "end_time": "2024-01-09T10:49:23.289197Z",
     "start_time": "2024-01-09T10:49:23.271936Z"
    }
   },
   "id": "885f7a953cde1cbd",
   "execution_count": 40
  },
  {
   "cell_type": "markdown",
   "source": [
    "# Accuracy and Inference time for Hybird Approach"
   ],
   "metadata": {
    "collapsed": false
   },
   "id": "ce0d93d1a3283662"
  },
  {
   "cell_type": "code",
   "outputs": [],
   "source": [
    "hybrid_output_path = Path('./outputs/hybrid')"
   ],
   "metadata": {
    "collapsed": false,
    "ExecuteTime": {
     "end_time": "2024-01-09T10:49:23.291168Z",
     "start_time": "2024-01-09T10:49:23.282374Z"
    }
   },
   "id": "201e828691ac1ab7",
   "execution_count": 41
  },
  {
   "cell_type": "code",
   "outputs": [],
   "source": [
    "hybrid_times, hybrid_performance = analyse(hybrid_output_path)"
   ],
   "metadata": {
    "collapsed": false,
    "ExecuteTime": {
     "end_time": "2024-01-09T10:49:25.556478Z",
     "start_time": "2024-01-09T10:49:23.285752Z"
    }
   },
   "id": "a989f4c082399750",
   "execution_count": 42
  },
  {
   "cell_type": "code",
   "outputs": [
    {
     "data": {
      "text/plain": "count    2425.000000\nmean        0.463327\nstd         0.093013\nmin         0.257936\n25%         0.381647\n50%         0.423636\n75%         0.549353\nmax         1.878136\ndtype: float64"
     },
     "execution_count": 43,
     "metadata": {},
     "output_type": "execute_result"
    }
   ],
   "source": [
    "hybrid_times.describe()"
   ],
   "metadata": {
    "collapsed": false,
    "ExecuteTime": {
     "end_time": "2024-01-09T10:49:25.564087Z",
     "start_time": "2024-01-09T10:49:25.557073Z"
    }
   },
   "id": "efaaec9dfb55081e",
   "execution_count": 43
  },
  {
   "cell_type": "code",
   "outputs": [
    {
     "data": {
      "text/plain": "count    2425.000000\nmean        0.058262\nstd         0.035994\nmin         0.000000\n25%         0.030209\n50%         0.066739\n75%         0.083725\nmax         0.193673\ndtype: float64"
     },
     "execution_count": 44,
     "metadata": {},
     "output_type": "execute_result"
    }
   ],
   "source": [
    "hybrid_performance['cosine'].describe()"
   ],
   "metadata": {
    "collapsed": false,
    "ExecuteTime": {
     "end_time": "2024-01-09T10:49:25.566254Z",
     "start_time": "2024-01-09T10:49:25.560907Z"
    }
   },
   "id": "839249122bfc5679",
   "execution_count": 44
  },
  {
   "cell_type": "code",
   "outputs": [
    {
     "data": {
      "text/plain": "count    2425.000000\nmean        0.307085\nstd         0.149107\nmin         0.000000\n25%         0.245800\n50%         0.365346\n75%         0.409206\nmax         0.622372\ndtype: float64"
     },
     "execution_count": 45,
     "metadata": {},
     "output_type": "execute_result"
    }
   ],
   "source": [
    "hybrid_performance['euclidean'].describe()"
   ],
   "metadata": {
    "collapsed": false,
    "ExecuteTime": {
     "end_time": "2024-01-09T10:49:25.569919Z",
     "start_time": "2024-01-09T10:49:25.565661Z"
    }
   },
   "id": "b1b9d11cd12dbeed",
   "execution_count": 45
  },
  {
   "cell_type": "code",
   "outputs": [
    {
     "data": {
      "text/plain": "count    2425.000000\nmean        9.598026\nstd         4.663471\nmin         0.000000\n25%         7.681106\n50%        11.439487\n75%        12.795822\nmax        19.358547\ndtype: float64"
     },
     "execution_count": 46,
     "metadata": {},
     "output_type": "execute_result"
    }
   ],
   "source": [
    "hybrid_performance['cityblock'].describe()"
   ],
   "metadata": {
    "collapsed": false,
    "ExecuteTime": {
     "end_time": "2024-01-09T10:49:25.575518Z",
     "start_time": "2024-01-09T10:49:25.570237Z"
    }
   },
   "id": "6c73097f94957376",
   "execution_count": 46
  },
  {
   "cell_type": "code",
   "outputs": [
    {
     "data": {
      "text/plain": "count    2425.000000\nmean        0.027788\nstd         0.013732\nmin         0.000000\n25%         0.021373\n50%         0.032507\n75%         0.036307\nmax         0.072392\ndtype: float64"
     },
     "execution_count": 47,
     "metadata": {},
     "output_type": "execute_result"
    }
   ],
   "source": [
    "hybrid_performance['chebyshev'].describe()"
   ],
   "metadata": {
    "collapsed": false,
    "ExecuteTime": {
     "end_time": "2024-01-09T10:49:25.590952Z",
     "start_time": "2024-01-09T10:49:25.575011Z"
    }
   },
   "id": "f3e9108d699d6bc1",
   "execution_count": 47
  },
  {
   "cell_type": "code",
   "outputs": [],
   "source": [
    "# Combine results into a summarized dataframe\n",
    "result_obj = {\n",
    "    'Model': ['ChatGPT', 'VectorDB', 'VectorDB Tiny', 'Base Model', 'Distilled Model', 'Hybrid Approach'],\n",
    "    'Inference Time (Mean)': [\n",
    "        chatgpt_times.describe()['mean'],\n",
    "        vector_times.describe()['mean'],\n",
    "        tiny_vector_times.describe()['mean'],\n",
    "        base_times.describe()['mean'],\n",
    "        distilled_times.describe()['mean'],\n",
    "        hybrid_times.describe()['mean']\n",
    "    ],\n",
    "    'Inference Time (Std)': [\n",
    "        chatgpt_times.describe()['std'],\n",
    "        vector_times.describe()['std'],\n",
    "        tiny_vector_times.describe()['std'],\n",
    "        base_times.describe()['std'],\n",
    "        distilled_times.describe()['std'],\n",
    "        hybrid_times.describe()['std']\n",
    "    ],\n",
    "    'Cosine (Mean)': [\n",
    "        None,\n",
    "        vector_performance['cosine'].describe()['mean'],\n",
    "        tiny_vector_performance['cosine'].describe()['mean'],\n",
    "        base_performance['cosine'].describe()['mean'],\n",
    "        distilled_performance['cosine'].describe()['mean'],\n",
    "        hybrid_performance['cosine'].describe()['mean']\n",
    "    ],\n",
    "    'Consine (Std)': [\n",
    "        None,\n",
    "        vector_performance['cosine'].describe()['std'],\n",
    "        tiny_vector_performance['cosine'].describe()['std'],\n",
    "        base_performance['cosine'].describe()['std'],\n",
    "        distilled_performance['cosine'].describe()['std'],\n",
    "        hybrid_performance['cosine'].describe()['std']\n",
    "    ],\n",
    "    'Euclidean (Mean)': [\n",
    "        None,\n",
    "        vector_performance['euclidean'].describe()['mean'],\n",
    "        tiny_vector_performance['euclidean'].describe()['mean'],\n",
    "        base_performance['euclidean'].describe()['mean'],\n",
    "        distilled_performance['euclidean'].describe()['mean'],\n",
    "        hybrid_performance['euclidean'].describe()['mean']\n",
    "    ],\n",
    "    'Euclidean (Std)': [\n",
    "        None,\n",
    "        vector_performance['euclidean'].describe()['std'],\n",
    "        tiny_vector_performance['euclidean'].describe()['std'],\n",
    "        base_performance['euclidean'].describe()['std'],\n",
    "        distilled_performance['euclidean'].describe()['std'],\n",
    "        hybrid_performance['euclidean'].describe()['std']\n",
    "    ],\n",
    "    'Cityblock (Mean)': [\n",
    "        None,\n",
    "        vector_performance['cityblock'].describe()['mean'],\n",
    "        tiny_vector_performance['cityblock'].describe()['mean'],\n",
    "        base_performance['cityblock'].describe()['mean'],\n",
    "        distilled_performance['cityblock'].describe()['mean'],\n",
    "        hybrid_performance['cityblock'].describe()['mean']\n",
    "    ],\n",
    "    'Cityblock (Std)': [\n",
    "        None,\n",
    "        vector_performance['cityblock'].describe()['std'],\n",
    "        tiny_vector_performance['cityblock'].describe()['std'],\n",
    "        base_performance['cityblock'].describe()['std'],\n",
    "        distilled_performance['cityblock'].describe()['std'],\n",
    "        hybrid_performance['cityblock'].describe()['std']\n",
    "    ],\n",
    "    'Chebyshev (Mean)': [\n",
    "        None,\n",
    "        vector_performance['chebyshev'].describe()['mean'],\n",
    "        tiny_vector_performance['chebyshev'].describe()['mean'],\n",
    "        base_performance['chebyshev'].describe()['mean'],\n",
    "        distilled_performance['chebyshev'].describe()['mean'],\n",
    "        hybrid_performance['chebyshev'].describe()['mean']\n",
    "    ],\n",
    "    'Chebyshev (Std)': [\n",
    "        None,\n",
    "        vector_performance['chebyshev'].describe()['std'],\n",
    "        tiny_vector_performance['chebyshev'].describe()['std'],\n",
    "        base_performance['chebyshev'].describe()['std'],\n",
    "        distilled_performance['chebyshev'].describe()['std'],\n",
    "        hybrid_performance['chebyshev'].describe()['std']\n",
    "    ]\n",
    "}"
   ],
   "metadata": {
    "collapsed": false,
    "ExecuteTime": {
     "end_time": "2024-01-09T10:49:25.619113Z",
     "start_time": "2024-01-09T10:49:25.581767Z"
    }
   },
   "id": "6037904390388222",
   "execution_count": 48
  },
  {
   "cell_type": "code",
   "outputs": [],
   "source": [
    "result_df = pd.DataFrame(result_obj)"
   ],
   "metadata": {
    "collapsed": false,
    "ExecuteTime": {
     "end_time": "2024-01-09T10:49:25.620553Z",
     "start_time": "2024-01-09T10:49:25.611744Z"
    }
   },
   "id": "e7b34076913af01c",
   "execution_count": 49
  },
  {
   "cell_type": "code",
   "outputs": [],
   "source": [
    "result_df.to_csv('./outputs/results.csv', index=False)"
   ],
   "metadata": {
    "collapsed": false,
    "ExecuteTime": {
     "end_time": "2024-01-09T10:49:25.621556Z",
     "start_time": "2024-01-09T10:49:25.614624Z"
    }
   },
   "id": "235b4eba74b1e423",
   "execution_count": 50
  }
 ],
 "metadata": {
  "kernelspec": {
   "display_name": "Python 3",
   "language": "python",
   "name": "python3"
  },
  "language_info": {
   "codemirror_mode": {
    "name": "ipython",
    "version": 2
   },
   "file_extension": ".py",
   "mimetype": "text/x-python",
   "name": "python",
   "nbconvert_exporter": "python",
   "pygments_lexer": "ipython2",
   "version": "2.7.6"
  }
 },
 "nbformat": 4,
 "nbformat_minor": 5
}
