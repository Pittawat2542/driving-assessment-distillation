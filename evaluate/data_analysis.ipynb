{
 "cells": [
  {
   "cell_type": "code",
   "execution_count": 1,
   "id": "initial_id",
   "metadata": {
    "collapsed": true,
    "ExecuteTime": {
     "end_time": "2024-01-14T05:15:26.373473Z",
     "start_time": "2024-01-14T05:15:25.674339Z"
    }
   },
   "outputs": [],
   "source": [
    "from pathlib import Path\n",
    "import pandas as pd\n",
    "import json\n",
    "from scipy.spatial.distance import cosine, euclidean, cityblock, chebyshev"
   ]
  },
  {
   "cell_type": "code",
   "outputs": [],
   "source": [
    "def string_to_vector(s):\n",
    "    return [float(x) for x in s.replace('[', '').replace(']', '').split(\",\")]"
   ],
   "metadata": {
    "collapsed": false,
    "ExecuteTime": {
     "end_time": "2024-01-14T05:15:26.394661Z",
     "start_time": "2024-01-14T05:15:26.373509Z"
    }
   },
   "id": "a31375332a4de4f8",
   "execution_count": 2
  },
  {
   "cell_type": "markdown",
   "source": [
    "# Find inference time of ChatGPT"
   ],
   "metadata": {
    "collapsed": false
   },
   "id": "bcf5c067a23b852b"
  },
  {
   "cell_type": "code",
   "outputs": [],
   "source": [
    "chatgpt_log_path = Path('../data/chatgpt/logs')"
   ],
   "metadata": {
    "collapsed": false,
    "ExecuteTime": {
     "end_time": "2024-01-14T05:15:26.395967Z",
     "start_time": "2024-01-14T05:15:26.377342Z"
    }
   },
   "id": "84e9bf98bc5ea5cb",
   "execution_count": 3
  },
  {
   "cell_type": "code",
   "outputs": [],
   "source": [
    "chatgpt_log_files = list(chatgpt_log_path.glob('*.log'))"
   ],
   "metadata": {
    "collapsed": false,
    "ExecuteTime": {
     "end_time": "2024-01-14T05:15:26.419734Z",
     "start_time": "2024-01-14T05:15:26.380635Z"
    }
   },
   "id": "491c5c5bb76cdc22",
   "execution_count": 4
  },
  {
   "cell_type": "code",
   "outputs": [],
   "source": [
    "def extract_time_from_line(line):\n",
    "    if 'Time taken:' in line:\n",
    "        return float(line.split('Time taken:')[1].split('s')[0])\n",
    "    else:\n",
    "        return None"
   ],
   "metadata": {
    "collapsed": false,
    "ExecuteTime": {
     "end_time": "2024-01-14T05:15:26.421065Z",
     "start_time": "2024-01-14T05:15:26.388449Z"
    }
   },
   "id": "2dc491cc35d6cf2b",
   "execution_count": 5
  },
  {
   "cell_type": "code",
   "outputs": [],
   "source": [
    "def extract_time_from_file(file):\n",
    "    with open(file, 'r') as f:\n",
    "        lines = f.readlines()\n",
    "    times = [extract_time_from_line(line) for line in lines]\n",
    "    times = [time for time in times if time is not None]\n",
    "    return times"
   ],
   "metadata": {
    "collapsed": false,
    "ExecuteTime": {
     "end_time": "2024-01-14T05:15:26.424064Z",
     "start_time": "2024-01-14T05:15:26.392838Z"
    }
   },
   "id": "7f361f318e4a4ec7",
   "execution_count": 6
  },
  {
   "cell_type": "code",
   "outputs": [],
   "source": [
    "chatgpt_times = [extract_time_from_file(file) for file in chatgpt_log_files]"
   ],
   "metadata": {
    "collapsed": false,
    "ExecuteTime": {
     "end_time": "2024-01-14T05:15:27.898727Z",
     "start_time": "2024-01-14T05:15:26.397815Z"
    }
   },
   "id": "599ab3e2be328a3b",
   "execution_count": 7
  },
  {
   "cell_type": "code",
   "outputs": [],
   "source": [
    "chatgpt_times = [time for times in chatgpt_times for time in times]"
   ],
   "metadata": {
    "collapsed": false,
    "ExecuteTime": {
     "end_time": "2024-01-14T05:15:27.909753Z",
     "start_time": "2024-01-14T05:15:27.899637Z"
    }
   },
   "id": "7d144a92818cb811",
   "execution_count": 8
  },
  {
   "cell_type": "code",
   "outputs": [],
   "source": [
    "chatgpt_times = pd.Series(chatgpt_times)"
   ],
   "metadata": {
    "collapsed": false,
    "ExecuteTime": {
     "end_time": "2024-01-14T05:15:27.911602Z",
     "start_time": "2024-01-14T05:15:27.908675Z"
    }
   },
   "id": "4368bc28c148edbe",
   "execution_count": 9
  },
  {
   "cell_type": "code",
   "outputs": [
    {
     "data": {
      "text/plain": "count    124253.000000\nmean          1.590521\nstd           1.465772\nmin           0.566465\n25%           1.001180\n50%           1.253083\n75%           1.779438\nmax          65.057091\ndtype: float64"
     },
     "execution_count": 10,
     "metadata": {},
     "output_type": "execute_result"
    }
   ],
   "source": [
    "chatgpt_times.describe()"
   ],
   "metadata": {
    "collapsed": false,
    "ExecuteTime": {
     "end_time": "2024-01-14T05:15:27.941395Z",
     "start_time": "2024-01-14T05:15:27.912753Z"
    }
   },
   "id": "fe7a69a5bea468d3",
   "execution_count": 10
  },
  {
   "cell_type": "code",
   "outputs": [],
   "source": [
    "test_set_path = Path('../data/test_small.csv')\n",
    "test_df = pd.read_csv(test_set_path)"
   ],
   "metadata": {
    "collapsed": false,
    "ExecuteTime": {
     "end_time": "2024-01-14T05:15:28.786967Z",
     "start_time": "2024-01-14T05:15:27.926644Z"
    }
   },
   "id": "efc6ce1e9aabd20b",
   "execution_count": 11
  },
  {
   "cell_type": "code",
   "outputs": [],
   "source": [
    "def analyse(output_path):\n",
    "    times = []\n",
    "    performance = {\n",
    "        'cosine': [],\n",
    "        'euclidean': [],\n",
    "        'cityblock': [],\n",
    "        'chebyshev': []\n",
    "    }\n",
    "    for index, row in test_df.iterrows():\n",
    "        file = output_path / f'{index}.json'\n",
    "        with open(file, 'r') as f:\n",
    "            generated_message = json.load(f)\n",
    "            times.append(generated_message['time'])\n",
    "            if generated_message.get('embedding', None) is not None:\n",
    "                embedding = generated_message['embedding']\n",
    "                gt_embedding = string_to_vector(row['message_embedding'])\n",
    "                performance['cosine'].append(cosine(embedding, gt_embedding))\n",
    "                performance['euclidean'].append(euclidean(embedding, gt_embedding))\n",
    "                performance['cityblock'].append(cityblock(embedding, gt_embedding))\n",
    "                performance['chebyshev'].append(chebyshev(embedding, gt_embedding))\n",
    "            else:\n",
    "                performance['cosine'].append(generated_message['cosine'])\n",
    "                performance['euclidean'].append(generated_message['euclidean'])\n",
    "                performance['cityblock'].append(generated_message['cityblock'])\n",
    "                performance['chebyshev'].append(generated_message['chebyshev'])\n",
    "    times = pd.Series(times)\n",
    "    performance['cosine'] = pd.Series(performance['cosine'])\n",
    "    performance['euclidean'] = pd.Series(performance['euclidean'])\n",
    "    performance['cityblock'] = pd.Series(performance['cityblock'])\n",
    "    performance['chebyshev'] = pd.Series(performance['chebyshev'])\n",
    "    return times, performance"
   ],
   "metadata": {
    "collapsed": false,
    "ExecuteTime": {
     "end_time": "2024-01-14T05:15:28.793490Z",
     "start_time": "2024-01-14T05:15:28.788784Z"
    }
   },
   "id": "8adb053dddbef6bf",
   "execution_count": 12
  },
  {
   "cell_type": "markdown",
   "source": [
    "# Accuracy and Inference time for Vector Database"
   ],
   "metadata": {
    "collapsed": false
   },
   "id": "f5247ab7a63e18d"
  },
  {
   "cell_type": "code",
   "outputs": [],
   "source": [
    "vector_output_path = Path('./outputs/vectordb')"
   ],
   "metadata": {
    "collapsed": false,
    "ExecuteTime": {
     "end_time": "2024-01-14T05:15:28.795085Z",
     "start_time": "2024-01-14T05:15:28.791848Z"
    }
   },
   "id": "ca0efbb195193782",
   "execution_count": 13
  },
  {
   "cell_type": "code",
   "outputs": [],
   "source": [
    "vector_times, vector_performance = analyse(vector_output_path)"
   ],
   "metadata": {
    "collapsed": false,
    "ExecuteTime": {
     "end_time": "2024-01-14T05:15:31.147572Z",
     "start_time": "2024-01-14T05:15:28.798906Z"
    }
   },
   "id": "5d9ee9cdb69b56a",
   "execution_count": 14
  },
  {
   "cell_type": "code",
   "outputs": [
    {
     "data": {
      "text/plain": "count    2425.000000\nmean        0.281407\nstd         0.100427\nmin         0.173099\n25%         0.181649\n50%         0.192508\n75%         0.382551\nmax         0.395854\ndtype: float64"
     },
     "execution_count": 15,
     "metadata": {},
     "output_type": "execute_result"
    }
   ],
   "source": [
    "vector_times.describe()"
   ],
   "metadata": {
    "collapsed": false,
    "ExecuteTime": {
     "end_time": "2024-01-14T05:15:31.154335Z",
     "start_time": "2024-01-14T05:15:31.148007Z"
    }
   },
   "id": "acf7149aa789fbc1",
   "execution_count": 15
  },
  {
   "cell_type": "code",
   "outputs": [
    {
     "data": {
      "text/plain": "count    2425.000000\nmean        0.062036\nstd         0.035696\nmin         0.000000\n25%         0.037643\n50%         0.067893\n75%         0.088319\nmax         0.193673\ndtype: float64"
     },
     "execution_count": 16,
     "metadata": {},
     "output_type": "execute_result"
    }
   ],
   "source": [
    "vector_performance['cosine'].describe()"
   ],
   "metadata": {
    "collapsed": false,
    "ExecuteTime": {
     "end_time": "2024-01-14T05:15:31.157388Z",
     "start_time": "2024-01-14T05:15:31.153093Z"
    }
   },
   "id": "30bd7f42b897b873",
   "execution_count": 16
  },
  {
   "cell_type": "code",
   "outputs": [
    {
     "data": {
      "text/plain": "count    2425.000000\nmean        0.321653\nstd         0.143598\nmin         0.000000\n25%         0.274383\n50%         0.368491\n75%         0.420284\nmax         0.622372\ndtype: float64"
     },
     "execution_count": 17,
     "metadata": {},
     "output_type": "execute_result"
    }
   ],
   "source": [
    "vector_performance['euclidean'].describe()"
   ],
   "metadata": {
    "collapsed": false,
    "ExecuteTime": {
     "end_time": "2024-01-14T05:15:31.163139Z",
     "start_time": "2024-01-14T05:15:31.159014Z"
    }
   },
   "id": "d9291b4a81bcae2b",
   "execution_count": 17
  },
  {
   "cell_type": "code",
   "outputs": [
    {
     "data": {
      "text/plain": "count    2425.000000\nmean       10.049913\nstd         4.489248\nmin         0.000000\n25%         8.524065\n50%        11.549316\n75%        13.131390\nmax        19.358547\ndtype: float64"
     },
     "execution_count": 18,
     "metadata": {},
     "output_type": "execute_result"
    }
   ],
   "source": [
    "vector_performance['cityblock'].describe()"
   ],
   "metadata": {
    "collapsed": false,
    "ExecuteTime": {
     "end_time": "2024-01-14T05:15:31.169970Z",
     "start_time": "2024-01-14T05:15:31.162110Z"
    }
   },
   "id": "be567e3cf0f01cae",
   "execution_count": 18
  },
  {
   "cell_type": "code",
   "outputs": [
    {
     "data": {
      "text/plain": "count    2425.000000\nmean        0.029302\nstd         0.013369\nmin         0.000000\n25%         0.024413\n50%         0.033378\n75%         0.037812\nmax         0.072392\ndtype: float64"
     },
     "execution_count": 19,
     "metadata": {},
     "output_type": "execute_result"
    }
   ],
   "source": [
    "vector_performance['chebyshev'].describe()"
   ],
   "metadata": {
    "collapsed": false,
    "ExecuteTime": {
     "end_time": "2024-01-14T05:15:31.186226Z",
     "start_time": "2024-01-14T05:15:31.167397Z"
    }
   },
   "id": "a40653cf77a8316c",
   "execution_count": 19
  },
  {
   "cell_type": "markdown",
   "source": [],
   "metadata": {
    "collapsed": false
   },
   "id": "4f447258c0b91c29"
  },
  {
   "cell_type": "markdown",
   "source": [
    "# Accuracy and Inference time for Vector Database"
   ],
   "metadata": {
    "collapsed": false
   },
   "id": "6e9a9a140bc0b495"
  },
  {
   "cell_type": "code",
   "outputs": [],
   "source": [
    "tiny_vector_output_path = Path('./outputs/vectordb_tiny')"
   ],
   "metadata": {
    "collapsed": false,
    "ExecuteTime": {
     "end_time": "2024-01-14T05:15:31.187230Z",
     "start_time": "2024-01-14T05:15:31.172018Z"
    }
   },
   "id": "105c936e4f8198d2",
   "execution_count": 20
  },
  {
   "cell_type": "code",
   "outputs": [],
   "source": [
    "tiny_vector_times, tiny_vector_performance = analyse(tiny_vector_output_path)"
   ],
   "metadata": {
    "collapsed": false,
    "ExecuteTime": {
     "end_time": "2024-01-14T05:15:33.453625Z",
     "start_time": "2024-01-14T05:15:31.174293Z"
    }
   },
   "id": "8f5b54cbbb0177dc",
   "execution_count": 21
  },
  {
   "cell_type": "code",
   "outputs": [
    {
     "data": {
      "text/plain": "count    2425.000000\nmean        0.283249\nstd         0.100102\nmin         0.173355\n25%         0.182095\n50%         0.377026\n75%         0.382346\nmax         0.394589\ndtype: float64"
     },
     "execution_count": 22,
     "metadata": {},
     "output_type": "execute_result"
    }
   ],
   "source": [
    "tiny_vector_times.describe()"
   ],
   "metadata": {
    "collapsed": false,
    "ExecuteTime": {
     "end_time": "2024-01-14T05:15:33.476949Z",
     "start_time": "2024-01-14T05:15:33.454034Z"
    }
   },
   "id": "59fdbd0935311268",
   "execution_count": 22
  },
  {
   "cell_type": "code",
   "outputs": [
    {
     "data": {
      "text/plain": "count    2425.000000\nmean        0.064629\nstd         0.034771\nmin         0.000000\n25%         0.041816\n50%         0.070616\n75%         0.090027\nmax         0.193673\ndtype: float64"
     },
     "execution_count": 23,
     "metadata": {},
     "output_type": "execute_result"
    }
   ],
   "source": [
    "tiny_vector_performance['cosine'].describe()"
   ],
   "metadata": {
    "collapsed": false,
    "ExecuteTime": {
     "end_time": "2024-01-14T05:15:33.477774Z",
     "start_time": "2024-01-14T05:15:33.460223Z"
    }
   },
   "id": "e165b76df8ce7ae6",
   "execution_count": 23
  },
  {
   "cell_type": "code",
   "outputs": [
    {
     "data": {
      "text/plain": "count    2425.000000\nmean        0.332816\nstd         0.136014\nmin         0.000000\n25%         0.289192\n50%         0.375809\n75%         0.424328\nmax         0.622372\ndtype: float64"
     },
     "execution_count": 24,
     "metadata": {},
     "output_type": "execute_result"
    }
   ],
   "source": [
    "tiny_vector_performance['euclidean'].describe()"
   ],
   "metadata": {
    "collapsed": false,
    "ExecuteTime": {
     "end_time": "2024-01-14T05:15:33.478490Z",
     "start_time": "2024-01-14T05:15:33.466972Z"
    }
   },
   "id": "bda37a0fd74c230",
   "execution_count": 24
  },
  {
   "cell_type": "code",
   "outputs": [
    {
     "data": {
      "text/plain": "count    2425.000000\nmean       10.401247\nstd         4.253315\nmin         0.000000\n25%         9.050577\n50%        11.695378\n75%        13.297423\nmax        19.358547\ndtype: float64"
     },
     "execution_count": 25,
     "metadata": {},
     "output_type": "execute_result"
    }
   ],
   "source": [
    "tiny_vector_performance['cityblock'].describe()"
   ],
   "metadata": {
    "collapsed": false,
    "ExecuteTime": {
     "end_time": "2024-01-14T05:15:33.508965Z",
     "start_time": "2024-01-14T05:15:33.471171Z"
    }
   },
   "id": "397e011cfae71735",
   "execution_count": 25
  },
  {
   "cell_type": "code",
   "outputs": [
    {
     "data": {
      "text/plain": "count    2425.000000\nmean        0.030271\nstd         0.012690\nmin         0.000000\n25%         0.025429\n50%         0.033900\n75%         0.038155\nmax         0.072392\ndtype: float64"
     },
     "execution_count": 26,
     "metadata": {},
     "output_type": "execute_result"
    }
   ],
   "source": [
    "tiny_vector_performance['chebyshev'].describe()"
   ],
   "metadata": {
    "collapsed": false,
    "ExecuteTime": {
     "end_time": "2024-01-14T05:15:33.524034Z",
     "start_time": "2024-01-14T05:15:33.481973Z"
    }
   },
   "id": "5b84c69e43f7cdb9",
   "execution_count": 26
  },
  {
   "cell_type": "markdown",
   "source": [
    "# Accuracy and Inference time for Base Model (without Distillation)"
   ],
   "metadata": {
    "collapsed": false
   },
   "id": "bf97571906a5a4b6"
  },
  {
   "cell_type": "code",
   "outputs": [],
   "source": [
    "base_output_path = Path('./outputs/embeddings/flan-t5-base')"
   ],
   "metadata": {
    "collapsed": false,
    "ExecuteTime": {
     "end_time": "2024-01-14T05:15:33.524853Z",
     "start_time": "2024-01-14T05:15:33.487891Z"
    }
   },
   "id": "e54b9f3340895c7e",
   "execution_count": 27
  },
  {
   "cell_type": "code",
   "outputs": [],
   "source": [
    "base_times, base_performance = analyse(base_output_path)"
   ],
   "metadata": {
    "collapsed": false,
    "ExecuteTime": {
     "end_time": "2024-01-14T05:15:36.001648Z",
     "start_time": "2024-01-14T05:15:33.492159Z"
    }
   },
   "id": "6d2a9ffb739a2e0d",
   "execution_count": 28
  },
  {
   "cell_type": "code",
   "outputs": [
    {
     "data": {
      "text/plain": "count    2425.000000\nmean        8.803834\nstd         3.119328\nmin         0.054339\n25%         5.875823\n50%        10.989218\n75%        11.050730\nmax        14.679158\ndtype: float64"
     },
     "execution_count": 29,
     "metadata": {},
     "output_type": "execute_result"
    }
   ],
   "source": [
    "base_times.describe()"
   ],
   "metadata": {
    "collapsed": false,
    "ExecuteTime": {
     "end_time": "2024-01-14T05:15:36.010020Z",
     "start_time": "2024-01-14T05:15:36.002011Z"
    }
   },
   "id": "c8e2d463bc0d75fe",
   "execution_count": 29
  },
  {
   "cell_type": "code",
   "outputs": [
    {
     "data": {
      "text/plain": "count    2425.000000\nmean        0.277937\nstd         0.027996\nmin         0.234319\n25%         0.255328\n50%         0.269972\n75%         0.289618\nmax         0.361683\ndtype: float64"
     },
     "execution_count": 30,
     "metadata": {},
     "output_type": "execute_result"
    }
   ],
   "source": [
    "base_performance['cosine'].describe()"
   ],
   "metadata": {
    "collapsed": false,
    "ExecuteTime": {
     "end_time": "2024-01-14T05:15:36.012501Z",
     "start_time": "2024-01-14T05:15:36.006839Z"
    }
   },
   "id": "b0e222b48bc48d3f",
   "execution_count": 30
  },
  {
   "cell_type": "code",
   "outputs": [
    {
     "data": {
      "text/plain": "count    2425.000000\nmean        0.744666\nstd         0.036700\nmin         0.684571\n25%         0.714602\n50%         0.734809\n75%         0.761076\nmax         0.850509\ndtype: float64"
     },
     "execution_count": 31,
     "metadata": {},
     "output_type": "execute_result"
    }
   ],
   "source": [
    "base_performance['euclidean'].describe()"
   ],
   "metadata": {
    "collapsed": false,
    "ExecuteTime": {
     "end_time": "2024-01-14T05:15:36.017703Z",
     "start_time": "2024-01-14T05:15:36.011640Z"
    }
   },
   "id": "6a40856144e32d11",
   "execution_count": 31
  },
  {
   "cell_type": "code",
   "outputs": [
    {
     "data": {
      "text/plain": "count    2425.000000\nmean       23.101383\nstd         1.159756\nmin        21.164160\n25%        22.225994\n50%        22.802176\n75%        23.565779\nmax        26.280348\ndtype: float64"
     },
     "execution_count": 32,
     "metadata": {},
     "output_type": "execute_result"
    }
   ],
   "source": [
    "base_performance['cityblock'].describe()"
   ],
   "metadata": {
    "collapsed": false,
    "ExecuteTime": {
     "end_time": "2024-01-14T05:15:36.021850Z",
     "start_time": "2024-01-14T05:15:36.016158Z"
    }
   },
   "id": "c6bb1bd1e45ac301",
   "execution_count": 32
  },
  {
   "cell_type": "code",
   "outputs": [
    {
     "data": {
      "text/plain": "count    2425.000000\nmean        0.074259\nstd         0.011509\nmin         0.056066\n25%         0.066694\n50%         0.070592\n75%         0.075539\nmax         0.149704\ndtype: float64"
     },
     "execution_count": 33,
     "metadata": {},
     "output_type": "execute_result"
    }
   ],
   "source": [
    "base_performance['chebyshev'].describe()    "
   ],
   "metadata": {
    "collapsed": false,
    "ExecuteTime": {
     "end_time": "2024-01-14T05:15:36.043264Z",
     "start_time": "2024-01-14T05:15:36.021187Z"
    }
   },
   "id": "e857f207b866ef4",
   "execution_count": 33
  },
  {
   "cell_type": "markdown",
   "source": [
    "# Accuracy and Inference time for Distilled Model"
   ],
   "metadata": {
    "collapsed": false
   },
   "id": "d76caa2f898dd7b5"
  },
  {
   "cell_type": "code",
   "outputs": [],
   "source": [
    "distilled_output_path = Path('./outputs/embeddings/checkpoint-10000')"
   ],
   "metadata": {
    "collapsed": false,
    "ExecuteTime": {
     "end_time": "2024-01-14T05:15:36.044191Z",
     "start_time": "2024-01-14T05:15:36.025847Z"
    }
   },
   "id": "66ee315e05ac491f",
   "execution_count": 34
  },
  {
   "cell_type": "code",
   "outputs": [],
   "source": [
    "distilled_times, distilled_performance = analyse(distilled_output_path)"
   ],
   "metadata": {
    "collapsed": false,
    "ExecuteTime": {
     "end_time": "2024-01-14T05:15:38.422740Z",
     "start_time": "2024-01-14T05:15:36.029447Z"
    }
   },
   "id": "d47b5d9552de7f62",
   "execution_count": 35
  },
  {
   "cell_type": "code",
   "outputs": [
    {
     "data": {
      "text/plain": "count    2425.000000\nmean        0.140709\nstd         0.029272\nmin         0.110268\n25%         0.133445\n50%         0.139941\n75%         0.146476\nmax         1.470797\ndtype: float64"
     },
     "execution_count": 36,
     "metadata": {},
     "output_type": "execute_result"
    }
   ],
   "source": [
    "distilled_times.describe()"
   ],
   "metadata": {
    "collapsed": false,
    "ExecuteTime": {
     "end_time": "2024-01-14T05:15:38.428266Z",
     "start_time": "2024-01-14T05:15:38.423348Z"
    }
   },
   "id": "45aa7457df763592",
   "execution_count": 36
  },
  {
   "cell_type": "code",
   "outputs": [
    {
     "data": {
      "text/plain": "count    2425.000000\nmean        0.058620\nstd         0.034661\nmin         0.000000\n25%         0.032801\n50%         0.066739\n75%         0.082258\nmax         0.164653\ndtype: float64"
     },
     "execution_count": 37,
     "metadata": {},
     "output_type": "execute_result"
    }
   ],
   "source": [
    "distilled_performance['cosine'].describe()"
   ],
   "metadata": {
    "collapsed": false,
    "ExecuteTime": {
     "end_time": "2024-01-14T05:15:38.436110Z",
     "start_time": "2024-01-14T05:15:38.428003Z"
    }
   },
   "id": "ad4460aff9eb997c",
   "execution_count": 37
  },
  {
   "cell_type": "code",
   "outputs": [
    {
     "data": {
      "text/plain": "count    2425.000000\nmean        0.310182\nstd         0.145039\nmin         0.000000\n25%         0.256127\n50%         0.365346\n75%         0.405607\nmax         0.573852\ndtype: float64"
     },
     "execution_count": 38,
     "metadata": {},
     "output_type": "execute_result"
    }
   ],
   "source": [
    "distilled_performance['euclidean'].describe()"
   ],
   "metadata": {
    "collapsed": false,
    "ExecuteTime": {
     "end_time": "2024-01-14T05:15:38.437795Z",
     "start_time": "2024-01-14T05:15:38.432487Z"
    }
   },
   "id": "9805de9735fb8e56",
   "execution_count": 38
  },
  {
   "cell_type": "code",
   "outputs": [
    {
     "data": {
      "text/plain": "count    2425.000000\nmean        9.698952\nstd         4.540294\nmin         0.000000\n25%         8.013645\n50%        11.500945\n75%        12.684517\nmax        17.832085\ndtype: float64"
     },
     "execution_count": 39,
     "metadata": {},
     "output_type": "execute_result"
    }
   ],
   "source": [
    "distilled_performance['cityblock'].describe()"
   ],
   "metadata": {
    "collapsed": false,
    "ExecuteTime": {
     "end_time": "2024-01-14T05:15:38.441017Z",
     "start_time": "2024-01-14T05:15:38.437929Z"
    }
   },
   "id": "382bb80afb41100f",
   "execution_count": 39
  },
  {
   "cell_type": "code",
   "outputs": [
    {
     "data": {
      "text/plain": "count    2425.000000\nmean        0.027921\nstd         0.013210\nmin         0.000000\n25%         0.021997\n50%         0.032793\n75%         0.035799\nmax         0.058922\ndtype: float64"
     },
     "execution_count": 40,
     "metadata": {},
     "output_type": "execute_result"
    }
   ],
   "source": [
    "distilled_performance['chebyshev'].describe()"
   ],
   "metadata": {
    "collapsed": false,
    "ExecuteTime": {
     "end_time": "2024-01-14T05:15:38.462747Z",
     "start_time": "2024-01-14T05:15:38.441004Z"
    }
   },
   "id": "885f7a953cde1cbd",
   "execution_count": 40
  },
  {
   "cell_type": "markdown",
   "source": [
    "# Accuracy and Inference time for Hybird Approach"
   ],
   "metadata": {
    "collapsed": false
   },
   "id": "ce0d93d1a3283662"
  },
  {
   "cell_type": "code",
   "outputs": [],
   "source": [
    "hybrid_output_path = Path('./outputs/hybrid')"
   ],
   "metadata": {
    "collapsed": false,
    "ExecuteTime": {
     "end_time": "2024-01-14T05:15:38.464179Z",
     "start_time": "2024-01-14T05:15:38.446204Z"
    }
   },
   "id": "201e828691ac1ab7",
   "execution_count": 41
  },
  {
   "cell_type": "code",
   "outputs": [],
   "source": [
    "hybrid_times, hybrid_performance = analyse(hybrid_output_path)"
   ],
   "metadata": {
    "collapsed": false,
    "ExecuteTime": {
     "end_time": "2024-01-14T05:15:40.656204Z",
     "start_time": "2024-01-14T05:15:38.448932Z"
    }
   },
   "id": "a989f4c082399750",
   "execution_count": 42
  },
  {
   "cell_type": "code",
   "outputs": [
    {
     "data": {
      "text/plain": "count    2425.000000\nmean        0.366997\nstd         0.132812\nmin         0.144519\n25%         0.253365\n50%         0.371394\n75%         0.488007\nmax         1.656059\ndtype: float64"
     },
     "execution_count": 43,
     "metadata": {},
     "output_type": "execute_result"
    }
   ],
   "source": [
    "hybrid_times.describe()"
   ],
   "metadata": {
    "collapsed": false,
    "ExecuteTime": {
     "end_time": "2024-01-14T05:15:40.662237Z",
     "start_time": "2024-01-14T05:15:40.656373Z"
    }
   },
   "id": "efaaec9dfb55081e",
   "execution_count": 43
  },
  {
   "cell_type": "code",
   "outputs": [
    {
     "data": {
      "text/plain": "count    2425.000000\nmean        0.058262\nstd         0.035994\nmin         0.000000\n25%         0.030209\n50%         0.066739\n75%         0.083725\nmax         0.193673\ndtype: float64"
     },
     "execution_count": 44,
     "metadata": {},
     "output_type": "execute_result"
    }
   ],
   "source": [
    "hybrid_performance['cosine'].describe()"
   ],
   "metadata": {
    "collapsed": false,
    "ExecuteTime": {
     "end_time": "2024-01-14T05:15:40.673294Z",
     "start_time": "2024-01-14T05:15:40.670007Z"
    }
   },
   "id": "839249122bfc5679",
   "execution_count": 44
  },
  {
   "cell_type": "code",
   "outputs": [
    {
     "data": {
      "text/plain": "count    2425.000000\nmean        0.307087\nstd         0.149101\nmin         0.000000\n25%         0.245800\n50%         0.365346\n75%         0.409206\nmax         0.622372\ndtype: float64"
     },
     "execution_count": 45,
     "metadata": {},
     "output_type": "execute_result"
    }
   ],
   "source": [
    "hybrid_performance['euclidean'].describe()"
   ],
   "metadata": {
    "collapsed": false,
    "ExecuteTime": {
     "end_time": "2024-01-14T05:15:40.692440Z",
     "start_time": "2024-01-14T05:15:40.673688Z"
    }
   },
   "id": "b1b9d11cd12dbeed",
   "execution_count": 45
  },
  {
   "cell_type": "code",
   "outputs": [
    {
     "data": {
      "text/plain": "count    2425.000000\nmean        9.598099\nstd         4.663311\nmin         0.000000\n25%         7.681106\n50%        11.439487\n75%        12.795822\nmax        19.358547\ndtype: float64"
     },
     "execution_count": 46,
     "metadata": {},
     "output_type": "execute_result"
    }
   ],
   "source": [
    "hybrid_performance['cityblock'].describe()"
   ],
   "metadata": {
    "collapsed": false,
    "ExecuteTime": {
     "end_time": "2024-01-14T05:15:40.694505Z",
     "start_time": "2024-01-14T05:15:40.680411Z"
    }
   },
   "id": "6c73097f94957376",
   "execution_count": 46
  },
  {
   "cell_type": "code",
   "outputs": [
    {
     "data": {
      "text/plain": "count    2425.000000\nmean        0.027788\nstd         0.013731\nmin         0.000000\n25%         0.021373\n50%         0.032507\n75%         0.036307\nmax         0.072392\ndtype: float64"
     },
     "execution_count": 47,
     "metadata": {},
     "output_type": "execute_result"
    }
   ],
   "source": [
    "hybrid_performance['chebyshev'].describe()"
   ],
   "metadata": {
    "collapsed": false,
    "ExecuteTime": {
     "end_time": "2024-01-14T05:15:40.695388Z",
     "start_time": "2024-01-14T05:15:40.683374Z"
    }
   },
   "id": "f3e9108d699d6bc1",
   "execution_count": 47
  },
  {
   "cell_type": "code",
   "outputs": [],
   "source": [
    "# Combine results into a summarized dataframe\n",
    "result_obj = {\n",
    "    'Model': ['ChatGPT', 'VectorDB', 'VectorDB Tiny', 'Base Model', 'Distilled Model', 'Hybrid Approach'],\n",
    "    'Inference Time (Mean)': [\n",
    "        chatgpt_times.describe()['mean'],\n",
    "        vector_times.describe()['mean'],\n",
    "        tiny_vector_times.describe()['mean'],\n",
    "        base_times.describe()['mean'],\n",
    "        distilled_times.describe()['mean'],\n",
    "        hybrid_times.describe()['mean']\n",
    "    ],\n",
    "    'Inference Time (Std)': [\n",
    "        chatgpt_times.describe()['std'],\n",
    "        vector_times.describe()['std'],\n",
    "        tiny_vector_times.describe()['std'],\n",
    "        base_times.describe()['std'],\n",
    "        distilled_times.describe()['std'],\n",
    "        hybrid_times.describe()['std']\n",
    "    ],\n",
    "    'Cosine (Mean)': [\n",
    "        None,\n",
    "        vector_performance['cosine'].describe()['mean'],\n",
    "        tiny_vector_performance['cosine'].describe()['mean'],\n",
    "        base_performance['cosine'].describe()['mean'],\n",
    "        distilled_performance['cosine'].describe()['mean'],\n",
    "        hybrid_performance['cosine'].describe()['mean']\n",
    "    ],\n",
    "    'Consine (Std)': [\n",
    "        None,\n",
    "        vector_performance['cosine'].describe()['std'],\n",
    "        tiny_vector_performance['cosine'].describe()['std'],\n",
    "        base_performance['cosine'].describe()['std'],\n",
    "        distilled_performance['cosine'].describe()['std'],\n",
    "        hybrid_performance['cosine'].describe()['std']\n",
    "    ],\n",
    "    'Euclidean (Mean)': [\n",
    "        None,\n",
    "        vector_performance['euclidean'].describe()['mean'],\n",
    "        tiny_vector_performance['euclidean'].describe()['mean'],\n",
    "        base_performance['euclidean'].describe()['mean'],\n",
    "        distilled_performance['euclidean'].describe()['mean'],\n",
    "        hybrid_performance['euclidean'].describe()['mean']\n",
    "    ],\n",
    "    'Euclidean (Std)': [\n",
    "        None,\n",
    "        vector_performance['euclidean'].describe()['std'],\n",
    "        tiny_vector_performance['euclidean'].describe()['std'],\n",
    "        base_performance['euclidean'].describe()['std'],\n",
    "        distilled_performance['euclidean'].describe()['std'],\n",
    "        hybrid_performance['euclidean'].describe()['std']\n",
    "    ],\n",
    "    'Cityblock (Mean)': [\n",
    "        None,\n",
    "        vector_performance['cityblock'].describe()['mean'],\n",
    "        tiny_vector_performance['cityblock'].describe()['mean'],\n",
    "        base_performance['cityblock'].describe()['mean'],\n",
    "        distilled_performance['cityblock'].describe()['mean'],\n",
    "        hybrid_performance['cityblock'].describe()['mean']\n",
    "    ],\n",
    "    'Cityblock (Std)': [\n",
    "        None,\n",
    "        vector_performance['cityblock'].describe()['std'],\n",
    "        tiny_vector_performance['cityblock'].describe()['std'],\n",
    "        base_performance['cityblock'].describe()['std'],\n",
    "        distilled_performance['cityblock'].describe()['std'],\n",
    "        hybrid_performance['cityblock'].describe()['std']\n",
    "    ],\n",
    "    'Chebyshev (Mean)': [\n",
    "        None,\n",
    "        vector_performance['chebyshev'].describe()['mean'],\n",
    "        tiny_vector_performance['chebyshev'].describe()['mean'],\n",
    "        base_performance['chebyshev'].describe()['mean'],\n",
    "        distilled_performance['chebyshev'].describe()['mean'],\n",
    "        hybrid_performance['chebyshev'].describe()['mean']\n",
    "    ],\n",
    "    'Chebyshev (Std)': [\n",
    "        None,\n",
    "        vector_performance['chebyshev'].describe()['std'],\n",
    "        tiny_vector_performance['chebyshev'].describe()['std'],\n",
    "        base_performance['chebyshev'].describe()['std'],\n",
    "        distilled_performance['chebyshev'].describe()['std'],\n",
    "        hybrid_performance['chebyshev'].describe()['std']\n",
    "    ]\n",
    "}"
   ],
   "metadata": {
    "collapsed": false,
    "ExecuteTime": {
     "end_time": "2024-01-14T05:15:40.724767Z",
     "start_time": "2024-01-14T05:15:40.689514Z"
    }
   },
   "id": "6037904390388222",
   "execution_count": 48
  },
  {
   "cell_type": "code",
   "outputs": [],
   "source": [
    "result_df = pd.DataFrame(result_obj)"
   ],
   "metadata": {
    "collapsed": false,
    "ExecuteTime": {
     "end_time": "2024-01-14T05:15:40.726598Z",
     "start_time": "2024-01-14T05:15:40.722064Z"
    }
   },
   "id": "e7b34076913af01c",
   "execution_count": 49
  },
  {
   "cell_type": "code",
   "outputs": [],
   "source": [
    "result_df.to_csv('./outputs/results.csv', index=False)"
   ],
   "metadata": {
    "collapsed": false,
    "ExecuteTime": {
     "end_time": "2024-01-14T05:15:40.731990Z",
     "start_time": "2024-01-14T05:15:40.725718Z"
    }
   },
   "id": "235b4eba74b1e423",
   "execution_count": 50
  }
 ],
 "metadata": {
  "kernelspec": {
   "display_name": "Python 3",
   "language": "python",
   "name": "python3"
  },
  "language_info": {
   "codemirror_mode": {
    "name": "ipython",
    "version": 2
   },
   "file_extension": ".py",
   "mimetype": "text/x-python",
   "name": "python",
   "nbconvert_exporter": "python",
   "pygments_lexer": "ipython2",
   "version": "2.7.6"
  }
 },
 "nbformat": 4,
 "nbformat_minor": 5
}
