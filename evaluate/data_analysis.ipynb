{
 "cells": [
  {
   "cell_type": "code",
   "execution_count": 15,
   "id": "initial_id",
   "metadata": {
    "collapsed": true,
    "ExecuteTime": {
     "end_time": "2023-12-28T01:14:22.125395Z",
     "start_time": "2023-12-28T01:14:22.120858Z"
    }
   },
   "outputs": [],
   "source": [
    "from pathlib import Path\n",
    "import pandas as pd\n",
    "import json\n",
    "from scipy.spatial.distance import cosine, euclidean, cityblock, chebyshev"
   ]
  },
  {
   "cell_type": "code",
   "outputs": [],
   "source": [
    "def string_to_vector(s):\n",
    "    return [float(x) for x in s.replace('[', '').replace(']', '').split(\",\")]"
   ],
   "metadata": {
    "collapsed": false,
    "ExecuteTime": {
     "end_time": "2023-12-28T01:28:37.179514Z",
     "start_time": "2023-12-28T01:28:37.171941Z"
    }
   },
   "id": "a31375332a4de4f8",
   "execution_count": 32
  },
  {
   "cell_type": "markdown",
   "source": [
    "# Find inference time of ChatGPT"
   ],
   "metadata": {
    "collapsed": false
   },
   "id": "bcf5c067a23b852b"
  },
  {
   "cell_type": "code",
   "outputs": [],
   "source": [
    "chatgpt_log_path = Path('../data/chatgpt/logs')"
   ],
   "metadata": {
    "collapsed": false,
    "ExecuteTime": {
     "end_time": "2023-12-28T01:12:56.254291Z",
     "start_time": "2023-12-28T01:12:56.250274Z"
    }
   },
   "id": "84e9bf98bc5ea5cb",
   "execution_count": 3
  },
  {
   "cell_type": "code",
   "outputs": [],
   "source": [
    "chatgpt_log_files = list(chatgpt_log_path.glob('*.log'))"
   ],
   "metadata": {
    "collapsed": false,
    "ExecuteTime": {
     "end_time": "2023-12-28T01:12:56.255066Z",
     "start_time": "2023-12-28T01:12:56.252384Z"
    }
   },
   "id": "491c5c5bb76cdc22",
   "execution_count": 4
  },
  {
   "cell_type": "code",
   "outputs": [],
   "source": [
    "def extract_time_from_line(line):\n",
    "    if 'Time taken:' in line:\n",
    "        return float(line.split('Time taken:')[1].split('s')[0])\n",
    "    else:\n",
    "        return None"
   ],
   "metadata": {
    "collapsed": false,
    "ExecuteTime": {
     "end_time": "2023-12-28T01:12:56.259639Z",
     "start_time": "2023-12-28T01:12:56.255867Z"
    }
   },
   "id": "2dc491cc35d6cf2b",
   "execution_count": 5
  },
  {
   "cell_type": "code",
   "outputs": [],
   "source": [
    "def extract_time_from_file(file):\n",
    "    with open(file, 'r') as f:\n",
    "        lines = f.readlines()\n",
    "    times = [extract_time_from_line(line) for line in lines]\n",
    "    times = [time for time in times if time is not None]\n",
    "    return times"
   ],
   "metadata": {
    "collapsed": false,
    "ExecuteTime": {
     "end_time": "2023-12-28T01:12:56.260025Z",
     "start_time": "2023-12-28T01:12:56.258257Z"
    }
   },
   "id": "7f361f318e4a4ec7",
   "execution_count": 6
  },
  {
   "cell_type": "code",
   "outputs": [],
   "source": [
    "chatgpt_times = [extract_time_from_file(file) for file in chatgpt_log_files]"
   ],
   "metadata": {
    "collapsed": false,
    "ExecuteTime": {
     "end_time": "2023-12-28T01:12:57.652590Z",
     "start_time": "2023-12-28T01:12:56.260312Z"
    }
   },
   "id": "599ab3e2be328a3b",
   "execution_count": 7
  },
  {
   "cell_type": "code",
   "outputs": [],
   "source": [
    "chatgpt_times = [time for times in chatgpt_times for time in times]"
   ],
   "metadata": {
    "collapsed": false,
    "ExecuteTime": {
     "end_time": "2023-12-28T01:12:57.657321Z",
     "start_time": "2023-12-28T01:12:57.653996Z"
    }
   },
   "id": "7d144a92818cb811",
   "execution_count": 8
  },
  {
   "cell_type": "code",
   "outputs": [],
   "source": [
    "chatgpt_times = pd.Series(chatgpt_times)"
   ],
   "metadata": {
    "collapsed": false,
    "ExecuteTime": {
     "end_time": "2023-12-28T01:12:57.665016Z",
     "start_time": "2023-12-28T01:12:57.658688Z"
    }
   },
   "id": "4368bc28c148edbe",
   "execution_count": 9
  },
  {
   "cell_type": "code",
   "outputs": [
    {
     "data": {
      "text/plain": "count    124253.000000\nmean          1.590521\nstd           1.465772\nmin           0.566465\n25%           1.001180\n50%           1.253083\n75%           1.779438\nmax          65.057091\ndtype: float64"
     },
     "execution_count": 10,
     "metadata": {},
     "output_type": "execute_result"
    }
   ],
   "source": [
    "chatgpt_times.describe()"
   ],
   "metadata": {
    "collapsed": false,
    "ExecuteTime": {
     "end_time": "2023-12-28T01:12:57.674728Z",
     "start_time": "2023-12-28T01:12:57.663780Z"
    }
   },
   "id": "fe7a69a5bea468d3",
   "execution_count": 10
  },
  {
   "cell_type": "code",
   "outputs": [],
   "source": [
    "test_set_path = Path('../data/test_small.csv')\n",
    "test_df = pd.read_csv(test_set_path)"
   ],
   "metadata": {
    "collapsed": false,
    "ExecuteTime": {
     "end_time": "2023-12-28T01:15:50.175535Z",
     "start_time": "2023-12-28T01:15:49.373489Z"
    }
   },
   "id": "efc6ce1e9aabd20b",
   "execution_count": 17
  },
  {
   "cell_type": "code",
   "outputs": [],
   "source": [
    "def analyse(output_path):\n",
    "    times = []\n",
    "    performance = {\n",
    "        'cosine': [],\n",
    "        'euclidean': [],\n",
    "        'cityblock': [],\n",
    "        'chebyshev': []\n",
    "    }\n",
    "    for index, row in test_df.iterrows():\n",
    "        file = output_path / f'{index}.json'\n",
    "        with open(file, 'r') as f:\n",
    "            generated_message = json.load(f)\n",
    "            times.append(generated_message['time'])\n",
    "            if generated_message.get('embedding', None) is not None:\n",
    "                embedding = generated_message['embedding']\n",
    "                gt_embedding = string_to_vector(row['message_embedding'])\n",
    "                performance['cosine'].append(cosine(embedding, gt_embedding))\n",
    "                performance['euclidean'].append(euclidean(embedding, gt_embedding))\n",
    "                performance['cityblock'].append(cityblock(embedding, gt_embedding))\n",
    "                performance['chebyshev'].append(chebyshev(embedding, gt_embedding))\n",
    "            else:\n",
    "                performance['cosine'].append(generated_message['cosine'])\n",
    "                performance['euclidean'].append(generated_message['euclidean'])\n",
    "                performance['cityblock'].append(generated_message['cityblock'])\n",
    "                performance['chebyshev'].append(generated_message['chebyshev'])\n",
    "    times = pd.Series(times)\n",
    "    performance['cosine'] = pd.Series(performance['cosine'])\n",
    "    performance['euclidean'] = pd.Series(performance['euclidean'])\n",
    "    performance['cityblock'] = pd.Series(performance['cityblock'])\n",
    "    performance['chebyshev'] = pd.Series(performance['chebyshev'])\n",
    "    return times, performance"
   ],
   "metadata": {
    "collapsed": false,
    "ExecuteTime": {
     "end_time": "2023-12-28T01:49:09.069734Z",
     "start_time": "2023-12-28T01:49:09.057711Z"
    }
   },
   "id": "8adb053dddbef6bf",
   "execution_count": 66
  },
  {
   "cell_type": "markdown",
   "source": [
    "# Accuracy and Inference time for Vector Database"
   ],
   "metadata": {
    "collapsed": false
   },
   "id": "f5247ab7a63e18d"
  },
  {
   "cell_type": "code",
   "outputs": [],
   "source": [
    "vector_output_path = Path('./outputs/vectordb')"
   ],
   "metadata": {
    "collapsed": false,
    "ExecuteTime": {
     "end_time": "2023-12-28T01:50:16.282682Z",
     "start_time": "2023-12-28T01:50:16.262853Z"
    }
   },
   "id": "ca0efbb195193782",
   "execution_count": 73
  },
  {
   "cell_type": "code",
   "outputs": [],
   "source": [
    "vector_times, vector_performance = analyse(vector_output_path)"
   ],
   "metadata": {
    "collapsed": false,
    "ExecuteTime": {
     "end_time": "2023-12-28T01:50:28.300845Z",
     "start_time": "2023-12-28T01:50:26.841251Z"
    }
   },
   "id": "5d9ee9cdb69b56a",
   "execution_count": 74
  },
  {
   "cell_type": "code",
   "outputs": [
    {
     "data": {
      "text/plain": "count    2425.000000\nmean        0.294800\nstd         0.099780\nmin         0.178475\n25%         0.190914\n50%         0.383286\n75%         0.390795\nmax         0.404999\ndtype: float64"
     },
     "execution_count": 75,
     "metadata": {},
     "output_type": "execute_result"
    }
   ],
   "source": [
    "vector_times.describe()"
   ],
   "metadata": {
    "collapsed": false,
    "ExecuteTime": {
     "end_time": "2023-12-28T01:50:30.095266Z",
     "start_time": "2023-12-28T01:50:30.086484Z"
    }
   },
   "id": "acf7149aa789fbc1",
   "execution_count": 75
  },
  {
   "cell_type": "code",
   "outputs": [
    {
     "data": {
      "text/plain": "count    2425.000000\nmean        0.062036\nstd         0.035696\nmin         0.000000\n25%         0.037643\n50%         0.067893\n75%         0.088319\nmax         0.193673\ndtype: float64"
     },
     "execution_count": 76,
     "metadata": {},
     "output_type": "execute_result"
    }
   ],
   "source": [
    "vector_performance['cosine'].describe()"
   ],
   "metadata": {
    "collapsed": false,
    "ExecuteTime": {
     "end_time": "2023-12-28T01:50:33.563721Z",
     "start_time": "2023-12-28T01:50:33.555117Z"
    }
   },
   "id": "30bd7f42b897b873",
   "execution_count": 76
  },
  {
   "cell_type": "code",
   "outputs": [
    {
     "data": {
      "text/plain": "count    2425.000000\nmean        0.321653\nstd         0.143598\nmin         0.000000\n25%         0.274383\n50%         0.368491\n75%         0.420284\nmax         0.622372\ndtype: float64"
     },
     "execution_count": 77,
     "metadata": {},
     "output_type": "execute_result"
    }
   ],
   "source": [
    "vector_performance['euclidean'].describe()"
   ],
   "metadata": {
    "collapsed": false,
    "ExecuteTime": {
     "end_time": "2023-12-28T01:50:37.682813Z",
     "start_time": "2023-12-28T01:50:37.665803Z"
    }
   },
   "id": "d9291b4a81bcae2b",
   "execution_count": 77
  },
  {
   "cell_type": "code",
   "outputs": [
    {
     "data": {
      "text/plain": "count    2425.000000\nmean       10.049913\nstd         4.489248\nmin         0.000000\n25%         8.524065\n50%        11.549316\n75%        13.131390\nmax        19.358547\ndtype: float64"
     },
     "execution_count": 78,
     "metadata": {},
     "output_type": "execute_result"
    }
   ],
   "source": [
    "vector_performance['cityblock'].describe()"
   ],
   "metadata": {
    "collapsed": false,
    "ExecuteTime": {
     "end_time": "2023-12-28T01:50:42.846561Z",
     "start_time": "2023-12-28T01:50:42.839990Z"
    }
   },
   "id": "be567e3cf0f01cae",
   "execution_count": 78
  },
  {
   "cell_type": "code",
   "outputs": [
    {
     "data": {
      "text/plain": "count    2425.000000\nmean        0.029302\nstd         0.013369\nmin         0.000000\n25%         0.024413\n50%         0.033378\n75%         0.037812\nmax         0.072392\ndtype: float64"
     },
     "execution_count": 79,
     "metadata": {},
     "output_type": "execute_result"
    }
   ],
   "source": [
    "vector_performance['chebyshev'].describe()"
   ],
   "metadata": {
    "collapsed": false,
    "ExecuteTime": {
     "end_time": "2023-12-28T01:50:46.974443Z",
     "start_time": "2023-12-28T01:50:46.965521Z"
    }
   },
   "id": "a40653cf77a8316c",
   "execution_count": 79
  },
  {
   "cell_type": "markdown",
   "source": [
    "# Accuracy and Inference time for Base Model (without Distillation)"
   ],
   "metadata": {
    "collapsed": false
   },
   "id": "bf97571906a5a4b6"
  },
  {
   "cell_type": "code",
   "outputs": [],
   "source": [
    "base_output_path = Path('./outputs/embeddings/flan-t5-base')"
   ],
   "metadata": {
    "collapsed": false,
    "ExecuteTime": {
     "end_time": "2023-12-28T01:27:59.418253Z",
     "start_time": "2023-12-28T01:27:59.413528Z"
    }
   },
   "id": "e54b9f3340895c7e",
   "execution_count": 29
  },
  {
   "cell_type": "code",
   "outputs": [],
   "source": [
    "base_times, base_performance = analyse(base_output_path)"
   ],
   "metadata": {
    "collapsed": false,
    "ExecuteTime": {
     "end_time": "2023-12-28T01:40:55.826036Z",
     "start_time": "2023-12-28T01:40:53.583739Z"
    }
   },
   "id": "6d2a9ffb739a2e0d",
   "execution_count": 40
  },
  {
   "cell_type": "code",
   "outputs": [
    {
     "data": {
      "text/plain": "count    2425.000000\nmean        0.283156\nstd         0.268420\nmin         0.225191\n25%         0.239736\n50%         0.248010\n75%         0.267751\nmax         6.839332\ndtype: float64"
     },
     "execution_count": 41,
     "metadata": {},
     "output_type": "execute_result"
    }
   ],
   "source": [
    "base_times.describe()"
   ],
   "metadata": {
    "collapsed": false,
    "ExecuteTime": {
     "end_time": "2023-12-28T01:41:00.181720Z",
     "start_time": "2023-12-28T01:41:00.177823Z"
    }
   },
   "id": "c8e2d463bc0d75fe",
   "execution_count": 41
  },
  {
   "cell_type": "code",
   "outputs": [
    {
     "data": {
      "text/plain": "count    2425.000000\nmean        0.277940\nstd         0.027998\nmin         0.234319\n25%         0.255328\n50%         0.269972\n75%         0.289578\nmax         0.361683\ndtype: float64"
     },
     "execution_count": 44,
     "metadata": {},
     "output_type": "execute_result"
    }
   ],
   "source": [
    "base_performance['cosine'].describe()"
   ],
   "metadata": {
    "collapsed": false,
    "ExecuteTime": {
     "end_time": "2023-12-28T01:41:37.674204Z",
     "start_time": "2023-12-28T01:41:37.668132Z"
    }
   },
   "id": "b0e222b48bc48d3f",
   "execution_count": 44
  },
  {
   "cell_type": "code",
   "outputs": [
    {
     "data": {
      "text/plain": "count    2425.000000\nmean        0.744670\nstd         0.036702\nmin         0.684571\n25%         0.714602\n50%         0.734809\n75%         0.761023\nmax         0.850509\ndtype: float64"
     },
     "execution_count": 45,
     "metadata": {},
     "output_type": "execute_result"
    }
   ],
   "source": [
    "base_performance['euclidean'].describe()"
   ],
   "metadata": {
    "collapsed": false,
    "ExecuteTime": {
     "end_time": "2023-12-28T01:41:38.917909Z",
     "start_time": "2023-12-28T01:41:38.911134Z"
    }
   },
   "id": "6a40856144e32d11",
   "execution_count": 45
  },
  {
   "cell_type": "code",
   "outputs": [
    {
     "data": {
      "text/plain": "count    2425.000000\nmean       23.101499\nstd         1.159753\nmin        21.164160\n25%        22.225591\n50%        22.803098\n75%        23.565779\nmax        26.280348\ndtype: float64"
     },
     "execution_count": 46,
     "metadata": {},
     "output_type": "execute_result"
    }
   ],
   "source": [
    "base_performance['cityblock'].describe()"
   ],
   "metadata": {
    "collapsed": false,
    "ExecuteTime": {
     "end_time": "2023-12-28T01:41:39.775888Z",
     "start_time": "2023-12-28T01:41:39.771966Z"
    }
   },
   "id": "c6bb1bd1e45ac301",
   "execution_count": 46
  },
  {
   "cell_type": "code",
   "outputs": [
    {
     "data": {
      "text/plain": "count    2425.000000\nmean        0.074263\nstd         0.011513\nmin         0.056066\n25%         0.066694\n50%         0.070592\n75%         0.075539\nmax         0.149704\ndtype: float64"
     },
     "execution_count": 47,
     "metadata": {},
     "output_type": "execute_result"
    }
   ],
   "source": [
    "base_performance['chebyshev'].describe()    "
   ],
   "metadata": {
    "collapsed": false,
    "ExecuteTime": {
     "end_time": "2023-12-28T01:41:44.898288Z",
     "start_time": "2023-12-28T01:41:44.893721Z"
    }
   },
   "id": "e857f207b866ef4",
   "execution_count": 47
  },
  {
   "cell_type": "markdown",
   "source": [
    "# Accuracy and Inference time for Distilled Model"
   ],
   "metadata": {
    "collapsed": false
   },
   "id": "d76caa2f898dd7b5"
  },
  {
   "cell_type": "code",
   "outputs": [],
   "source": [
    "distilled_output_path = Path('./outputs/embeddings/checkpoint-10000')"
   ],
   "metadata": {
    "collapsed": false,
    "ExecuteTime": {
     "end_time": "2023-12-28T01:44:10.400233Z",
     "start_time": "2023-12-28T01:44:10.397057Z"
    }
   },
   "id": "66ee315e05ac491f",
   "execution_count": 50
  },
  {
   "cell_type": "code",
   "outputs": [],
   "source": [
    "distilled_times, distilled_performance = analyse(distilled_output_path)"
   ],
   "metadata": {
    "collapsed": false,
    "ExecuteTime": {
     "end_time": "2023-12-28T01:44:26.401192Z",
     "start_time": "2023-12-28T01:44:23.586071Z"
    }
   },
   "id": "d47b5d9552de7f62",
   "execution_count": 51
  },
  {
   "cell_type": "code",
   "outputs": [
    {
     "data": {
      "text/plain": "count    2425.000000\nmean        0.303202\nstd         0.553354\nmin         0.223693\n25%         0.238294\n50%         0.246649\n75%         0.262651\nmax        15.278507\ndtype: float64"
     },
     "execution_count": 52,
     "metadata": {},
     "output_type": "execute_result"
    }
   ],
   "source": [
    "distilled_times.describe()"
   ],
   "metadata": {
    "collapsed": false,
    "ExecuteTime": {
     "end_time": "2023-12-28T01:44:26.932738Z",
     "start_time": "2023-12-28T01:44:26.923653Z"
    }
   },
   "id": "45aa7457df763592",
   "execution_count": 52
  },
  {
   "cell_type": "code",
   "outputs": [
    {
     "data": {
      "text/plain": "count    2425.000000\nmean        0.058620\nstd         0.034661\nmin         0.000000\n25%         0.032801\n50%         0.066776\n75%         0.082258\nmax         0.164653\ndtype: float64"
     },
     "execution_count": 53,
     "metadata": {},
     "output_type": "execute_result"
    }
   ],
   "source": [
    "distilled_performance['cosine'].describe()"
   ],
   "metadata": {
    "collapsed": false,
    "ExecuteTime": {
     "end_time": "2023-12-28T01:44:37.471888Z",
     "start_time": "2023-12-28T01:44:37.463136Z"
    }
   },
   "id": "ad4460aff9eb997c",
   "execution_count": 53
  },
  {
   "cell_type": "code",
   "outputs": [
    {
     "data": {
      "text/plain": "count    2425.000000\nmean        0.310189\nstd         0.145026\nmin         0.000000\n25%         0.256127\n50%         0.365448\n75%         0.405607\nmax         0.573852\ndtype: float64"
     },
     "execution_count": 54,
     "metadata": {},
     "output_type": "execute_result"
    }
   ],
   "source": [
    "distilled_performance['euclidean'].describe()"
   ],
   "metadata": {
    "collapsed": false,
    "ExecuteTime": {
     "end_time": "2023-12-28T01:44:39.842113Z",
     "start_time": "2023-12-28T01:44:39.830108Z"
    }
   },
   "id": "9805de9735fb8e56",
   "execution_count": 54
  },
  {
   "cell_type": "code",
   "outputs": [
    {
     "data": {
      "text/plain": "count    2425.000000\nmean        9.699162\nstd         4.539895\nmin         0.000000\n25%         8.013645\n50%        11.500945\n75%        12.684517\nmax        17.832085\ndtype: float64"
     },
     "execution_count": 55,
     "metadata": {},
     "output_type": "execute_result"
    }
   ],
   "source": [
    "distilled_performance['cityblock'].describe()"
   ],
   "metadata": {
    "collapsed": false,
    "ExecuteTime": {
     "end_time": "2023-12-28T01:44:41.156606Z",
     "start_time": "2023-12-28T01:44:41.148708Z"
    }
   },
   "id": "382bb80afb41100f",
   "execution_count": 55
  },
  {
   "cell_type": "code",
   "outputs": [
    {
     "data": {
      "text/plain": "count    2425.000000\nmean        0.027921\nstd         0.013208\nmin         0.000000\n25%         0.021997\n50%         0.032793\n75%         0.035799\nmax         0.058922\ndtype: float64"
     },
     "execution_count": 56,
     "metadata": {},
     "output_type": "execute_result"
    }
   ],
   "source": [
    "distilled_performance['chebyshev'].describe()"
   ],
   "metadata": {
    "collapsed": false,
    "ExecuteTime": {
     "end_time": "2023-12-28T01:44:42.842811Z",
     "start_time": "2023-12-28T01:44:42.835005Z"
    }
   },
   "id": "885f7a953cde1cbd",
   "execution_count": 56
  },
  {
   "cell_type": "markdown",
   "source": [
    "# Accuracy and Inference time for Hybird Approach"
   ],
   "metadata": {
    "collapsed": false
   },
   "id": "ce0d93d1a3283662"
  },
  {
   "cell_type": "code",
   "outputs": [],
   "source": [
    "hybrid_output_path = Path('./outputs/hybrid')"
   ],
   "metadata": {
    "collapsed": false,
    "ExecuteTime": {
     "end_time": "2023-12-28T01:55:04.008129Z",
     "start_time": "2023-12-28T01:55:03.996499Z"
    }
   },
   "id": "201e828691ac1ab7",
   "execution_count": 83
  },
  {
   "cell_type": "code",
   "outputs": [],
   "source": [
    "hybrid_times, hybrid_performance = analyse(hybrid_output_path)"
   ],
   "metadata": {
    "collapsed": false,
    "ExecuteTime": {
     "end_time": "2023-12-28T01:55:06.832498Z",
     "start_time": "2023-12-28T01:55:04.788865Z"
    }
   },
   "id": "a989f4c082399750",
   "execution_count": 84
  },
  {
   "cell_type": "code",
   "outputs": [
    {
     "data": {
      "text/plain": "count    2425.000000\nmean        0.463327\nstd         0.093013\nmin         0.257936\n25%         0.381647\n50%         0.423636\n75%         0.549353\nmax         1.878136\ndtype: float64"
     },
     "execution_count": 85,
     "metadata": {},
     "output_type": "execute_result"
    }
   ],
   "source": [
    "hybrid_times.describe()"
   ],
   "metadata": {
    "collapsed": false,
    "ExecuteTime": {
     "end_time": "2023-12-28T01:55:06.838936Z",
     "start_time": "2023-12-28T01:55:06.832920Z"
    }
   },
   "id": "efaaec9dfb55081e",
   "execution_count": 85
  },
  {
   "cell_type": "code",
   "outputs": [
    {
     "data": {
      "text/plain": "count    2425.000000\nmean        0.058262\nstd         0.035994\nmin         0.000000\n25%         0.030209\n50%         0.066739\n75%         0.083725\nmax         0.193673\ndtype: float64"
     },
     "execution_count": 86,
     "metadata": {},
     "output_type": "execute_result"
    }
   ],
   "source": [
    "hybrid_performance['cosine'].describe()"
   ],
   "metadata": {
    "collapsed": false,
    "ExecuteTime": {
     "end_time": "2023-12-28T01:55:06.841150Z",
     "start_time": "2023-12-28T01:55:06.836969Z"
    }
   },
   "id": "839249122bfc5679",
   "execution_count": 86
  },
  {
   "cell_type": "code",
   "outputs": [
    {
     "data": {
      "text/plain": "count    2425.000000\nmean        0.307085\nstd         0.149107\nmin         0.000000\n25%         0.245800\n50%         0.365346\n75%         0.409206\nmax         0.622372\ndtype: float64"
     },
     "execution_count": 87,
     "metadata": {},
     "output_type": "execute_result"
    }
   ],
   "source": [
    "hybrid_performance['euclidean'].describe()"
   ],
   "metadata": {
    "collapsed": false,
    "ExecuteTime": {
     "end_time": "2023-12-28T01:55:06.843644Z",
     "start_time": "2023-12-28T01:55:06.840390Z"
    }
   },
   "id": "b1b9d11cd12dbeed",
   "execution_count": 87
  },
  {
   "cell_type": "code",
   "outputs": [
    {
     "data": {
      "text/plain": "count    2425.000000\nmean        9.598026\nstd         4.663471\nmin         0.000000\n25%         7.681106\n50%        11.439487\n75%        12.795822\nmax        19.358547\ndtype: float64"
     },
     "execution_count": 88,
     "metadata": {},
     "output_type": "execute_result"
    }
   ],
   "source": [
    "hybrid_performance['cityblock'].describe()"
   ],
   "metadata": {
    "collapsed": false,
    "ExecuteTime": {
     "end_time": "2023-12-28T01:55:06.847626Z",
     "start_time": "2023-12-28T01:55:06.843372Z"
    }
   },
   "id": "6c73097f94957376",
   "execution_count": 88
  },
  {
   "cell_type": "code",
   "outputs": [
    {
     "data": {
      "text/plain": "count    2425.000000\nmean        0.027788\nstd         0.013732\nmin         0.000000\n25%         0.021373\n50%         0.032507\n75%         0.036307\nmax         0.072392\ndtype: float64"
     },
     "execution_count": 89,
     "metadata": {},
     "output_type": "execute_result"
    }
   ],
   "source": [
    "hybrid_performance['chebyshev'].describe()"
   ],
   "metadata": {
    "collapsed": false,
    "ExecuteTime": {
     "end_time": "2023-12-28T01:55:07.789932Z",
     "start_time": "2023-12-28T01:55:07.783479Z"
    }
   },
   "id": "f3e9108d699d6bc1",
   "execution_count": 89
  },
  {
   "cell_type": "code",
   "outputs": [],
   "source": [
    "# Combine results into a summarized dataframe\n",
    "result_obj = {\n",
    "    'Model': ['ChatGPT', 'VectorDB', 'Base Model', 'Distilled Model', 'Hybrid Approach'],\n",
    "    'Inference Time (Mean)': [\n",
    "        chatgpt_times.describe()['mean'],\n",
    "        vector_times.describe()['mean'],\n",
    "        base_times.describe()['mean'],\n",
    "        distilled_times.describe()['mean'],\n",
    "        hybrid_times.describe()['mean']\n",
    "    ],\n",
    "    'Inference Time (Std)': [\n",
    "        chatgpt_times.describe()['std'],\n",
    "        vector_times.describe()['std'],\n",
    "        base_times.describe()['std'],\n",
    "        distilled_times.describe()['std'],\n",
    "        hybrid_times.describe()['std']\n",
    "    ],\n",
    "    'Cosine (Mean)': [\n",
    "        None,\n",
    "        vector_performance['cosine'].describe()['mean'],\n",
    "        base_performance['cosine'].describe()['mean'],\n",
    "        distilled_performance['cosine'].describe()['mean'],\n",
    "        hybrid_performance['cosine'].describe()['mean']\n",
    "    ],\n",
    "    'Consine (Std)': [\n",
    "        None,\n",
    "        vector_performance['cosine'].describe()['std'],\n",
    "        base_performance['cosine'].describe()['std'],\n",
    "        distilled_performance['cosine'].describe()['std'],\n",
    "        hybrid_performance['cosine'].describe()['std']\n",
    "    ],\n",
    "    'Euclidean (Mean)': [\n",
    "        None,\n",
    "        vector_performance['euclidean'].describe()['mean'],\n",
    "        base_performance['euclidean'].describe()['mean'],\n",
    "        distilled_performance['euclidean'].describe()['mean'],\n",
    "        hybrid_performance['euclidean'].describe()['mean']\n",
    "    ],\n",
    "    'Euclidean (Std)': [\n",
    "        None,\n",
    "        vector_performance['euclidean'].describe()['std'],\n",
    "        base_performance['euclidean'].describe()['std'],\n",
    "        distilled_performance['euclidean'].describe()['std'],\n",
    "        hybrid_performance['euclidean'].describe()['std']\n",
    "    ],\n",
    "    'Cityblock (Mean)': [\n",
    "        None,\n",
    "        vector_performance['cityblock'].describe()['mean'],\n",
    "        base_performance['cityblock'].describe()['mean'],\n",
    "        distilled_performance['cityblock'].describe()['mean'],\n",
    "        hybrid_performance['cityblock'].describe()['mean']\n",
    "    ],\n",
    "    'Cityblock (Std)': [\n",
    "        None,\n",
    "        vector_performance['cityblock'].describe()['std'],\n",
    "        base_performance['cityblock'].describe()['std'],\n",
    "        distilled_performance['cityblock'].describe()['std'],\n",
    "        hybrid_performance['cityblock'].describe()['std']\n",
    "    ],\n",
    "    'Chebyshev (Mean)': [\n",
    "        None,\n",
    "        vector_performance['chebyshev'].describe()['mean'],\n",
    "        base_performance['chebyshev'].describe()['mean'],\n",
    "        distilled_performance['chebyshev'].describe()['mean'],\n",
    "        hybrid_performance['chebyshev'].describe()['mean']\n",
    "    ],\n",
    "    'Chebyshev (Std)': [\n",
    "        None,\n",
    "        vector_performance['chebyshev'].describe()['std'],\n",
    "        base_performance['chebyshev'].describe()['std'],\n",
    "        distilled_performance['chebyshev'].describe()['std'],\n",
    "        hybrid_performance['chebyshev'].describe()['std']\n",
    "    ]\n",
    "}"
   ],
   "metadata": {
    "collapsed": false,
    "ExecuteTime": {
     "end_time": "2023-12-28T01:55:08.283010Z",
     "start_time": "2023-12-28T01:55:08.258130Z"
    }
   },
   "id": "6037904390388222",
   "execution_count": 90
  },
  {
   "cell_type": "code",
   "outputs": [],
   "source": [
    "result_df = pd.DataFrame(result_obj)"
   ],
   "metadata": {
    "collapsed": false,
    "ExecuteTime": {
     "end_time": "2023-12-28T01:55:08.934346Z",
     "start_time": "2023-12-28T01:55:08.929711Z"
    }
   },
   "id": "e7b34076913af01c",
   "execution_count": 91
  },
  {
   "cell_type": "code",
   "outputs": [],
   "source": [
    "result_df.to_csv('./outputs/results.csv', index=False)"
   ],
   "metadata": {
    "collapsed": false,
    "ExecuteTime": {
     "end_time": "2023-12-28T01:55:09.328002Z",
     "start_time": "2023-12-28T01:55:09.324484Z"
    }
   },
   "id": "235b4eba74b1e423",
   "execution_count": 92
  },
  {
   "cell_type": "code",
   "outputs": [],
   "source": [],
   "metadata": {
    "collapsed": false
   },
   "id": "f6ccfba65b384938"
  }
 ],
 "metadata": {
  "kernelspec": {
   "display_name": "Python 3",
   "language": "python",
   "name": "python3"
  },
  "language_info": {
   "codemirror_mode": {
    "name": "ipython",
    "version": 2
   },
   "file_extension": ".py",
   "mimetype": "text/x-python",
   "name": "python",
   "nbconvert_exporter": "python",
   "pygments_lexer": "ipython2",
   "version": "2.7.6"
  }
 },
 "nbformat": 4,
 "nbformat_minor": 5
}
